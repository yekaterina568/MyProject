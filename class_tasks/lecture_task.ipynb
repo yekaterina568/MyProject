{
 "cells": [
  {
   "cell_type": "code",
   "execution_count": 9,
   "metadata": {},
   "outputs": [],
   "source": [
    "import csv\n",
    "import os\n",
    "\n",
    "path = 'annual-enterprise-survey-2018-financial-year-provisional-csv.csv'\n",
    "data =[]\n",
    "with open(path, 'r') as file:\n",
    "    csv_reader = csv.reader(file)\n",
    "    for row in csv_reader: \n",
    "        data.append(row)"
   ]
  },
  {
   "cell_type": "code",
   "execution_count": 14,
   "metadata": {},
   "outputs": [
    {
     "data": {
      "text/plain": [
       "['.git',\n",
       " 'annual-enterprise-survey-2018-financial-year-provisional-csv.csv',\n",
       " 'defense.ipynb',\n",
       " 'lab 4',\n",
       " 'lab2',\n",
       " 'lab3',\n",
       " 'lab5',\n",
       " 'lab6',\n",
       " 'lecture_task.ipynb',\n",
       " 'project.ipynb',\n",
       " 'README.md']"
      ]
     },
     "execution_count": 14,
     "metadata": {},
     "output_type": "execute_result"
    }
   ],
   "source": [
    "import os\n",
    "os.listdir()"
   ]
  },
  {
   "cell_type": "code",
   "execution_count": 10,
   "metadata": {},
   "outputs": [
    {
     "name": "stdout",
     "output_type": "stream",
     "text": [
      "[['Year', 'Industry_aggregation_NZSIOC', 'Industry_code_NZSIOC', 'Industry_name_NZSIOC', 'Units', 'Variable_code', 'Variable_name', 'Variable_category', 'Value', 'Industry_code_ANZSIC06']]\n"
     ]
    }
   ],
   "source": [
    "print(data[:1])"
   ]
  },
  {
   "cell_type": "code",
   "execution_count": 17,
   "metadata": {},
   "outputs": [
    {
     "name": "stdout",
     "output_type": "stream",
     "text": [
      "[['Year', 'Industry_aggregation_NZSIOC', 'Industry_code_NZSIOC', 'Industry_name_NZSIOC', 'Units', 'Variable_code', 'Variable_name', 'Variable_category', 'Value', 'Industry_code_ANZSIC06'], ['2018', 'Level 1', '99999', 'All industries', 'Dollars (millions)', 'H01', 'Total income', 'Financial performance', '691859', 'ANZSIC06 divisions A-S (excluding classes K6330, L6711, O7552, O760, O771, O772, S9540, S9601, S9602, and S9603)'], ['2018', 'Level 1', '99999', 'All industries', 'Dollars (millions)', 'H04', 'Sales, government funding, grants and subsidies', 'Financial performance', '605766', 'ANZSIC06 divisions A-S (excluding classes K6330, L6711, O7552, O760, O771, O772, S9540, S9601, S9602, and S9603)'], ['2018', 'Level 1', '99999', 'All industries', 'Dollars (millions)', 'H05', 'Interest, dividends and donations', 'Financial performance', '63509', 'ANZSIC06 divisions A-S (excluding classes K6330, L6711, O7552, O760, O771, O772, S9540, S9601, S9602, and S9603)'], ['2018', 'Level 1', '99999', 'All industries', 'Dollars (millions)', 'H07', 'Non-operating income', 'Financial performance', '22583', 'ANZSIC06 divisions A-S (excluding classes K6330, L6711, O7552, O760, O771, O772, S9540, S9601, S9602, and S9603)']]\n"
     ]
    }
   ],
   "source": [
    "print(data[:5])"
   ]
  },
  {
   "cell_type": "code",
   "execution_count": 18,
   "metadata": {},
   "outputs": [
    {
     "name": "stdout",
     "output_type": "stream",
     "text": [
      "[['2013', 'Level 4', 'MN115', 'Computer System Design and Related Services', 'Dollars (millions)', 'H28', 'Disposals of fixed assets', 'Financial position', '39', 'ANZSIC06 group M700'], ['2013', 'Level 4', 'MN115', 'Computer System Design and Related Services', 'Dollars (millions)', 'H29', 'Other assets', 'Financial position', '691', 'ANZSIC06 group M700'], ['2013', 'Level 4', 'MN115', 'Computer System Design and Related Services', 'Dollars (millions)', 'H30', 'Total equity and liabilities', 'Financial position', '3465', 'ANZSIC06 group M700'], ['2013', 'Level 4', 'MN115', 'Computer System Design and Related Services', 'Dollars (millions)', 'H31', 'Shareholders funds or owners equity', 'Financial position', '1420', 'ANZSIC06 group M700'], ['2013', 'Level 4', 'MN115', 'Computer ']]\n"
     ]
    }
   ],
   "source": [
    "print(data[-5:])"
   ]
  },
  {
   "cell_type": "code",
   "execution_count": 15,
   "metadata": {},
   "outputs": [
    {
     "name": "stdout",
     "output_type": "stream",
     "text": [
      "{'Level 3', 'Level 1', 'Level 4'}\n",
      "3\n"
     ]
    }
   ],
   "source": [
    "path = 'annual-enterprise-survey-2018-financial-year-provisional-csv.csv'\n",
    "data = []\n",
    "\n",
    "with open(path, 'r', encoding='utf-8') as file:\n",
    "    csv_reader = csv.reader(file)\n",
    "    header = next(csv_reader) \n",
    "    data = list(csv_reader)   \n",
    "\n",
    "index = header.index(\"Industry_aggregation_NZSIOC\")\n",
    "\n",
    "unique_levels = set()\n",
    "\n",
    "for row in data:\n",
    "    if row: \n",
    "        unique_levels.add(row[index]) \n",
    "\n",
    "print(unique_levels)\n",
    "print(len(unique_levels))\n"
   ]
  },
  {
   "cell_type": "code",
   "execution_count": 32,
   "metadata": {},
   "outputs": [
    {
     "name": "stdout",
     "output_type": "stream",
     "text": [
      "{'Retail Trade and Accommodation', 'Forestry and Logging', 'Professional, Scientific and Technical Services', 'Basic Chemical and Chemical Product Manufacturing', 'Machinery and Other Equipment Manufacturing', 'Information Media Services', 'Other Services', 'Electricity, Gas, Water and Waste Services', 'Fishing and Aquaculture', 'Residential Care Services and Social Assistance', 'Polymer Product and Rubber Product Manufacturing', 'Veterinary and Other Professional Services', 'Legal and Accounting Services', 'Accommodation', 'Banking and Financing', 'Poultry, Deer and Other Livestock Farming', 'Furniture Manufacturing', 'Water, Sewerage, Drainage and Waste Services', 'Residential Building Construction', 'Food Product Manufacturing', 'Public Order, Safety and Regulatory Services', 'Repair and Maintenance', 'Life Insurance', 'Health and General Insurance', 'Manufacturing', 'Non-Store and Commission Based Retailing', 'Advertising, Market Research and Management Services', 'Motor Vehicle and Motor Vehicle Parts Wholesaling', 'Computer System Design and Related Services', 'Sheep, Beef Cattle and Grain Farming', 'Pharmaceutical, Cleaning and Other Chemical Manufacturing', 'Electricity and Gas Supply', 'Basic Material Wholesaling', 'Non-Residential Property Operation', 'Hospitals', 'Other Manufacturing', 'Auxiliary Finance and Insurance Services', 'Basic Chemical and Basic Polymer Manufacturing', 'Furniture, Electrical and Hardware Retailing', 'Dairy Cattle Farming', 'Accommodation and Food Services', 'Education and Training', 'Professional, Scientific, Technical, Administrative and Support Services', 'Health Care and Social Assistance', 'Non-Metallic Mineral Product Manufacturing', 'Non-Residential Building Construction', 'Fertiliser and Pesticide Manufacturing', 'Agriculture, Forestry and Fishing Support Services and Hunting', 'Machinery and Equipment Wholesaling', 'Scientific, Architectural and Engineering Services', 'Employment and Other Administrative Services', 'Rail, Water, Air and Other Transport', 'Computer ', 'Heritage and Artistic Activities', 'Non-Financial Asset Leasing', 'Postal and Courier Pick Up and Delivery Services', 'Grocery, Liquor and Tobacco Product Wholesaling', 'Building Cleaning, Pest Control and Other Support Services', 'Recreational, Clothing, Footwear and Personal Accessory Retailing', 'Postal, Courier, Transport Support, and Warehousing Services', 'Finance', 'Mining', 'Motor Vehicle and Motor Vehicle Parts and Fuel Retailing', 'Transport Equipment Manufacturing', 'Pharmaceutical and Other Store Based Retailing', 'Heavy and Civil Engineering Construction', 'Financial and Insurance Services', 'Sport and Recreation Activities', 'Personal Care, Funeral and Other Personal Services', 'Fabricated Metal Product Manufacturing', 'Department Stores', 'Machinery Manufacturing', 'Arts and Recreation Services', 'Road Transport', 'Transport, Postal and Warehousing', 'Real Estate Services', 'Building Construction', 'Arts, Recreation and Other Services', 'Financial Asset Investing', 'Commission Based Wholesaling', 'Travel Agency and Tour Arrangement Services', 'Medical and Other Health Care Services', 'Wholesale Trade', 'Construction Services', 'Telecommunications, Internet and Library Services', 'All industries', 'Supermarket, Grocery Stores and Specialised Food Retailing', 'Wood Product Manufacturing', 'Rental and Hiring Services (except Real Estate)', 'Property Operators and Real Estate Services', 'Preschool Education', 'Gambling Activities', 'Petroleum and Coal Product Manufacturing', 'Furniture and Other Manufacturing', 'Insurance', 'Other Goods Wholesaling', 'Civil, Professional and Other Interest Groups', 'Other Store-Based Retailing and Non Store Retailing', 'Information Media and Telecommunications', 'Textile, Leather, Clothing and Footwear Manufacturing', 'Construction', 'Tertiary Education', 'Primary Metal and Metal Product Manufacturing', 'Electronic and Electrical Equipment Manufacturing', 'School Education', 'Transport Support Services', 'Administrative and Support Services', 'Horticulture and Fruit Growing', 'Printing', 'Food and Beverage Services', 'Pulp, Paper and Converted Paper Product Manufacturing', 'Adult, Community and Other Education', 'Rental, Hiring and Real Estate Services', 'Warehousing and Storage Services', 'Agriculture, Forestry and Fishing', 'Clothing, Knitted Products and Footwear Manufacturing', 'Textile and Leather Manufacturing', 'Beverage and Tobacco Product Manufacturing'}\n",
      "118\n"
     ]
    }
   ],
   "source": [
    "path = r\"C:\\Users\\User\\MyProject\\class_tasks.ipynb\\annual-enterprise-survey-2018-financial-year-provisional-csv.csv\"\n",
    "data = []\n",
    "\n",
    "with open(path, 'r', encoding = \"utf-8\") as file:\n",
    "    csv_r = csv.reader(file)\n",
    "    header = next(csv_r)\n",
    "    data = list(csv_r)\n",
    "    index2 = header.index(\"Industry_name_NZSIOC\")\n",
    "    index3 = header.index(\"Year\")\n",
    "\n",
    "    unique_industries = set()\n",
    "\n",
    "    for row in data:\n",
    "            unique_industries.add(row[index2])\n",
    "\n",
    "print(unique_industries)\n",
    "print(len(unique_industries))"
   ]
  },
  {
   "cell_type": "code",
   "execution_count": 33,
   "metadata": {},
   "outputs": [
    {
     "name": "stdout",
     "output_type": "stream",
     "text": [
      "{'2018', '2016', '2013', '2015', '2014', '2017'}\n"
     ]
    }
   ],
   "source": [
    "unique_years = set()\n",
    "\n",
    "for row in data:\n",
    "    unique_years.add(row[index3])\n",
    "\n",
    "print(unique_years)\n"
   ]
  },
  {
   "cell_type": "code",
   "execution_count": 38,
   "metadata": {},
   "outputs": [
    {
     "name": "stdout",
     "output_type": "stream",
     "text": [
      "2018.csv is written\n",
      "2016.csv is written\n",
      "2013.csv is written\n",
      "2015.csv is written\n",
      "2014.csv is written\n",
      "2017.csv is written\n"
     ]
    }
   ],
   "source": [
    "for year in unique_years:\n",
    "\n",
    "        with open(f\"{year}.csv\", \"w\", newline=\"\", encoding=\"utf-8\") as ofile:\n",
    "            csv_writer = csv.writer(ofile)\n",
    "            csv_writer.writerow(header)\n",
    "\n",
    "            for row in data:\n",
    "                if row[index3] == year: \n",
    "                    csv_writer.writerow(row) \n",
    "\n",
    "            print(f\"{year}.csv is written\")\n"
   ]
  },
  {
   "cell_type": "code",
   "execution_count": 41,
   "metadata": {},
   "outputs": [
    {
     "name": "stdout",
     "output_type": "stream",
     "text": [
      "['2013.csv', '2014.csv', '2015.csv', '2016.csv', '2017.csv', '2018.csv', 'annual-enterprise-survey-2018-financial-year-provisional-csv.csv']\n"
     ]
    }
   ],
   "source": [
    "import os\n",
    "\n",
    "list_of_files = [file for file in os.listdir(\"./\") if file.endswith(\".csv\")]\n",
    "print(list_of_files)"
   ]
  }
 ],
 "metadata": {
  "kernelspec": {
   "display_name": "Python 3",
   "language": "python",
   "name": "python3"
  },
  "language_info": {
   "codemirror_mode": {
    "name": "ipython",
    "version": 3
   },
   "file_extension": ".py",
   "mimetype": "text/x-python",
   "name": "python",
   "nbconvert_exporter": "python",
   "pygments_lexer": "ipython3",
   "version": "3.11.5"
  },
  "orig_nbformat": 4
 },
 "nbformat": 4,
 "nbformat_minor": 2
}
