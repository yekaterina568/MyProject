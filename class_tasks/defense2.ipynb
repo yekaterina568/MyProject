{
 "cells": [
  {
   "cell_type": "code",
   "execution_count": 29,
   "metadata": {},
   "outputs": [
    {
     "name": "stdout",
     "output_type": "stream",
     "text": [
      "Rick Potion #9 - https://www.tvmaze.com/episodes/14313/rick-and-morty-1x06-rick-potion-9\n",
      "Something Ricked This Way Comes - https://www.tvmaze.com/episodes/14316/rick-and-morty-1x09-something-ricked-this-way-comes\n",
      "Close Rick-Counters of the Rick Kind - https://www.tvmaze.com/episodes/14317/rick-and-morty-1x10-close-rick-counters-of-the-rick-kind\n",
      "Ricksy Business - https://www.tvmaze.com/episodes/14318/rick-and-morty-1x11-ricksy-business\n",
      "A Rickle in Time - https://www.tvmaze.com/episodes/157166/rick-and-morty-2x01-a-rickle-in-time\n"
     ]
    }
   ],
   "source": [
    "import json\n",
    "\n",
    "with open(\"shows.json\", 'r', encoding=\"utf-8\") as file:\n",
    "    data=json.load(file)\n",
    "\n",
    "episodes = data[\"_embedded\"][\"episodes\"]\n",
    "\n",
    "filtered = [ep for ep in episodes if \"Rick\" in ep [\"name\"]]\n",
    "for ep in filtered[:5]:\n",
    "    print(f\"{ep['name']} - {ep['url']}\")\n",
    "\n"
   ]
  },
  {
   "cell_type": "code",
   "execution_count": 32,
   "metadata": {},
   "outputs": [
    {
     "name": "stdout",
     "output_type": "stream",
     "text": [
      "The difference between dates: 2422\n"
     ]
    }
   ],
   "source": [
    "from datetime import datetime, timedelta \n",
    "\n",
    "a = datetime(2007, 1, 1)\n",
    "b = datetime(2000, 5, 15)\n",
    "diff = a - b\n",
    "\n",
    "print(f\"The difference between dates: {diff.days}\")\n"
   ]
  },
  {
   "cell_type": "code",
   "execution_count": 18,
   "metadata": {},
   "outputs": [
    {
     "name": "stdout",
     "output_type": "stream",
     "text": [
      "0\n",
      "1\n",
      "1\n",
      "2\n",
      "3\n",
      "5\n",
      "8\n",
      "13\n",
      "21\n",
      "34\n"
     ]
    }
   ],
   "source": [
    "def gen_fib():\n",
    "    a, b = 0, 1\n",
    "    while True:\n",
    "        yield a\n",
    "        a, b = b, b+a\n",
    "\n",
    "fibb = gen_fib()\n",
    "for i in range(10):\n",
    "    print(next(fibb))"
   ]
  },
  {
   "cell_type": "code",
   "execution_count": 20,
   "metadata": {},
   "outputs": [
    {
     "name": "stdout",
     "output_type": "stream",
     "text": [
      "['2904']\n"
     ]
    }
   ],
   "source": [
    "import re\n",
    "\n",
    "text = \"фисш2904--\"\n",
    "\n",
    "numbers = re.findall(r'\\d+', text) \n",
    "print(numbers)"
   ]
  }
 ],
 "metadata": {
  "kernelspec": {
   "display_name": "Python 3",
   "language": "python",
   "name": "python3"
  },
  "language_info": {
   "codemirror_mode": {
    "name": "ipython",
    "version": 3
   },
   "file_extension": ".py",
   "mimetype": "text/x-python",
   "name": "python",
   "nbconvert_exporter": "python",
   "pygments_lexer": "ipython3",
   "version": "3.11.5"
  },
  "orig_nbformat": 4
 },
 "nbformat": 4,
 "nbformat_minor": 2
}
