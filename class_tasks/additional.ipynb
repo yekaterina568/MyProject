{
 "cells": [
  {
   "cell_type": "code",
   "execution_count": 4,
   "metadata": {},
   "outputs": [
    {
     "name": "stdout",
     "output_type": "stream",
     "text": [
      "Количество заголовков: 10\n",
      "Заголовки: ['Year', 'Industry_aggregation_NZSIOC', 'Industry_code_NZSIOC', 'Industry_name_NZSIOC', 'Units', 'Variable_code', 'Variable_name', 'Variable_category', 'Value', 'Industry_code_ANZSIC06']\n",
      "Пропущенная или неполная строка: ['2013', 'Level 4', 'MN115', 'Computer ']\n",
      "Год: 2013, Общий доход: 1797845\n",
      "Год: 2014, Общий доход: 2052635\n",
      "Год: 2015, Общий доход: 2122127\n",
      "Год: 2016, Общий доход: 2180459\n",
      "Год: 2017, Общий доход: 2327058\n",
      "Год: 2018, Общий доход: 2490655\n"
     ]
    }
   ],
   "source": [
    "import csv\n",
    "\n",
    "path = r\"C:\\Users\\User\\MyProject\\class_tasks.ipynb\\annual-enterprise-survey-2018-financial-year-provisional-csv.csv\"\n",
    "\n",
    "with open(path, 'r', encoding=\"utf-8-sig\") as file:\n",
    "    reader = csv.reader(file)\n",
    "    header = next(reader)  \n",
    "\n",
    "    print(\"Количество заголовков:\", len(header))\n",
    "    print(\"Заголовки:\", header)\n",
    "\n",
    "    try:\n",
    "        index_var = header.index(\"Variable_code\")  \n",
    "        index_year = header.index(\"Year\")   \n",
    "        index_value = header.index(\"Value\")\n",
    "    except ValueError as e:\n",
    "        print(\"Ошибка: Одна из колонок не найдена!\", e)\n",
    "        exit()\n",
    "\n",
    "    income_by_year = {}\n",
    "\n",
    "    for row in reader:\n",
    "        if len(row) < max(index_var, index_year, index_value) + 1:\n",
    "            print(\"Пропущенная или неполная строка:\", row)\n",
    "            continue  \n",
    "\n",
    "        year = row[index_year]\n",
    "        variable = row[index_var]\n",
    "        value = row[index_value]\n",
    "\n",
    "        if variable == \"H01\":\n",
    "            try:\n",
    "                income = int(value)\n",
    "            except ValueError:\n",
    "                print(f\"Ошибка преобразования: {value} в {row}\")\n",
    "                continue  \n",
    "\n",
    "            if year in income_by_year:\n",
    "                income_by_year[year] += income\n",
    "            else:\n",
    "                income_by_year[year] = income\n",
    "\n",
    "for year, total_income in sorted(income_by_year.items()):\n",
    "    print(f\"Год: {year}, Общий доход: {total_income}\")\n"
   ]
  },
  {
   "cell_type": "code",
   "execution_count": 5,
   "metadata": {},
   "outputs": [
    {
     "data": {
      "text/plain": [
       "<function dir>"
      ]
     },
     "execution_count": 5,
     "metadata": {},
     "output_type": "execute_result"
    }
   ],
   "source": [
    "dir"
   ]
  }
 ],
 "metadata": {
  "kernelspec": {
   "display_name": "Python 3",
   "language": "python",
   "name": "python3"
  },
  "language_info": {
   "codemirror_mode": {
    "name": "ipython",
    "version": 3
   },
   "file_extension": ".py",
   "mimetype": "text/x-python",
   "name": "python",
   "nbconvert_exporter": "python",
   "pygments_lexer": "ipython3",
   "version": "3.11.5"
  },
  "orig_nbformat": 4
 },
 "nbformat": 4,
 "nbformat_minor": 2
}
