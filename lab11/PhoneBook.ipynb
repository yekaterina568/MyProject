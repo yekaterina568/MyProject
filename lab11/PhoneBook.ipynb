{
 "cells": [
  {
   "cell_type": "code",
   "execution_count": 5,
   "metadata": {},
   "outputs": [
    {
     "name": "stdout",
     "output_type": "stream",
     "text": [
      "(7, 'David', '556823')\n",
      "(10, 'David', '123123')\n",
      "(11, 'Daniel', '456456')\n",
      "(13, 'David', '123123')\n",
      "(14, 'Daniel', '456456')\n"
     ]
    }
   ],
   "source": [
    "import psycopg2\n",
    "\n",
    "conn = psycopg2.connect(\n",
    "    dbname=\"postgres\", \n",
    "    user=\"postgres\",\n",
    "    password=\"80950644dR?)\", \n",
    "    host=\"localhost\",\n",
    "    port=\"9956\"\n",
    ")\n",
    "\n",
    "cur = conn.cursor()\n",
    "\n",
    "cur.execute(\"\"\"\n",
    "CREATE TABLE IF NOT EXISTS PhoneBook (\n",
    "    id SERIAL PRIMARY KEY,\n",
    "    name TEXT,\n",
    "    phone TEXT\n",
    ");\n",
    "\"\"\")\n",
    "\n",
    "cur.execute(\"\"\"\n",
    "CREATE OR REPLACE FUNCTION search_phonebook_start(pattern TEXT)\n",
    "RETURNS TABLE(id INT, name TEXT, phone TEXT)\n",
    "AS $$\n",
    "BEGIN\n",
    "    RETURN QUERY\n",
    "    SELECT * FROM PhoneBook\n",
    "    WHERE PhoneBook.name ILIKE pattern || '%';\n",
    "END;\n",
    "$$ LANGUAGE plpgsql;\n",
    "\"\"\")\n",
    "\n",
    "cur.execute(\"INSERT INTO PhoneBook (name, phone) VALUES (%s, %s) ON CONFLICT DO NOTHING;\", ('David', '123123'))\n",
    "cur.execute(\"INSERT INTO PhoneBook (name, phone) VALUES (%s, %s) ON CONFLICT DO NOTHING;\", ('Daniel', '456456'))\n",
    "cur.execute(\"INSERT INTO PhoneBook (name, phone) VALUES (%s, %s) ON CONFLICT DO NOTHING;\", ('Alice', '789789'))\n",
    "conn.commit()\n",
    "\n",
    "cur.execute(\"SELECT * FROM search_phonebook_start(%s);\", ('D',))\n",
    "rows = cur.fetchall()\n",
    "for row in rows:\n",
    "    print(row)\n",
    "\n",
    "cur.close()\n",
    "conn.close()"
   ]
  },
  {
   "cell_type": "code",
   "execution_count": 6,
   "metadata": {},
   "outputs": [
    {
     "name": "stdout",
     "output_type": "stream",
     "text": [
      "(8, 'Bob', '12345')\n",
      "(11, 'Daniel', '456456')\n",
      "(14, 'Daniel', '456456')\n",
      "(7, 'David', '111111')\n",
      "(10, 'David', '111111')\n",
      "(13, 'David', '111111')\n",
      "(1, 'Alice', '999999')\n",
      "(9, 'Alice', '999999')\n",
      "(12, 'Alice', '999999')\n",
      "(15, 'Alice', '999999')\n"
     ]
    }
   ],
   "source": [
    "import psycopg2\n",
    "\n",
    "conn = psycopg2.connect(\n",
    "    dbname=\"postgres\", \n",
    "    user=\"postgres\",\n",
    "    password=\"80950644dR?)\", \n",
    "    host=\"localhost\",\n",
    "    port=\"9956\"\n",
    ")\n",
    "\n",
    "cur = conn.cursor()\n",
    "\n",
    "cur.execute(\"\"\"\n",
    "CREATE TABLE IF NOT EXISTS PhoneBook (\n",
    "    id SERIAL PRIMARY KEY,\n",
    "    name TEXT UNIQUE,\n",
    "    phone TEXT\n",
    ");\n",
    "\"\"\")\n",
    "\n",
    "cur.execute(\"\"\"\n",
    "CREATE OR REPLACE PROCEDURE insert_or_update_user(username TEXT, userphone TEXT)\n",
    "LANGUAGE plpgsql\n",
    "AS $$\n",
    "BEGIN\n",
    "    IF EXISTS (SELECT 1 FROM PhoneBook WHERE name = username) THEN\n",
    "        UPDATE PhoneBook SET phone = userphone WHERE name = username;\n",
    "    ELSE\n",
    "        INSERT INTO PhoneBook(name, phone) VALUES (username, userphone);\n",
    "    END IF;\n",
    "END;\n",
    "$$;\n",
    "\"\"\")\n",
    "\n",
    "cur.execute(\"CALL insert_or_update_user(%s, %s);\", ('David', '111111'))\n",
    "cur.execute(\"CALL insert_or_update_user(%s, %s);\", ('Alice', '999999'))\n",
    "conn.commit()\n",
    "\n",
    "cur.execute(\"SELECT * FROM PhoneBook;\")\n",
    "rows = cur.fetchall()\n",
    "for row in rows:\n",
    "    print(row)\n",
    "\n",
    "cur.close()\n",
    "conn.close()"
   ]
  },
  {
   "cell_type": "code",
   "execution_count": 7,
   "metadata": {},
   "outputs": [],
   "source": [
    "import psycopg2\n",
    "\n",
    "conn = psycopg2.connect(\n",
    "    dbname=\"postgres\", \n",
    "    user=\"postgres\",\n",
    "    password=\"80950644dR?)\", \n",
    "    host=\"localhost\",\n",
    "    port=\"9956\"\n",
    ")\n",
    "\n",
    "cur = conn.cursor()\n",
    "\n",
    "cur.execute(\"DROP PROCEDURE IF EXISTS insert_users(IN names TEXT[], IN phones TEXT[]);\")\n",
    "\n",
    "create_proc = '''\n",
    "CREATE OR REPLACE PROCEDURE insert_users(IN names TEXT[], IN phones TEXT[])\n",
    "LANGUAGE plpgsql\n",
    "AS $$\n",
    "DECLARE\n",
    "    i INT;\n",
    "    incorrect_names TEXT[] := ARRAY[]::TEXT[];\n",
    "    incorrect_phones TEXT[] := ARRAY[]::TEXT[];\n",
    "BEGIN\n",
    "    FOR i IN 1..array_length(names, 1) LOOP\n",
    "        IF phones[i] ~ '^[0-9]{10,15}$' THEN\n",
    "            INSERT INTO PhoneBook(name, phone) VALUES (names[i], phones[i]);\n",
    "        ELSE\n",
    "            incorrect_names := array_append(incorrect_names, names[i]);\n",
    "            incorrect_phones := array_append(incorrect_phones, phones[i]);\n",
    "        END IF;\n",
    "    END LOOP;\n",
    "\n",
    "    RAISE NOTICE 'Некорректные данные:';\n",
    "    FOR i IN 1..array_length(incorrect_names, 1) LOOP\n",
    "        RAISE NOTICE 'Имя: %, Телефон: %', incorrect_names[i], incorrect_phones[i];\n",
    "    END LOOP;\n",
    "END;\n",
    "$$;\n",
    "'''\n",
    "\n",
    "cur.execute(create_proc)\n",
    "conn.commit()\n",
    "cur.close()\n",
    "conn.close()"
   ]
  },
  {
   "attachments": {},
   "cell_type": "markdown",
   "metadata": {},
   "source": [
    "Calling the procedure"
   ]
  },
  {
   "cell_type": "code",
   "execution_count": 8,
   "metadata": {},
   "outputs": [],
   "source": [
    "import psycopg2\n",
    "\n",
    "conn = psycopg2.connect(\n",
    "    dbname=\"postgres\", \n",
    "    user=\"postgres\",\n",
    "    password=\"80950644dR?)\", \n",
    "    host=\"localhost\",\n",
    "    port=\"9956\"\n",
    ")\n",
    "\n",
    "cur = conn.cursor()\n",
    "names = ['Alice', 'Bob', 'Charlie']\n",
    "phones = ['87001112233', 'abc123', '87007778899']\n",
    "\n",
    "cur.execute(\"CALL insert_users(%s, %s);\", (names, phones))\n",
    "\n",
    "conn.commit()\n",
    "cur.close()\n",
    "conn.close()"
   ]
  },
  {
   "attachments": {},
   "cell_type": "markdown",
   "metadata": {},
   "source": [
    "Checking the table`s data"
   ]
  },
  {
   "cell_type": "code",
   "execution_count": 9,
   "metadata": {},
   "outputs": [
    {
     "name": "stdout",
     "output_type": "stream",
     "text": [
      "(8, 'Bob', '12345')\n",
      "(11, 'Daniel', '456456')\n",
      "(14, 'Daniel', '456456')\n",
      "(7, 'David', '111111')\n",
      "(10, 'David', '111111')\n",
      "(13, 'David', '111111')\n",
      "(1, 'Alice', '999999')\n",
      "(9, 'Alice', '999999')\n",
      "(12, 'Alice', '999999')\n",
      "(15, 'Alice', '999999')\n",
      "(16, 'Alice', '87001112233')\n",
      "(17, 'Charlie', '87007778899')\n"
     ]
    }
   ],
   "source": [
    "import psycopg2\n",
    "\n",
    "conn = psycopg2.connect(\n",
    "    dbname=\"postgres\", \n",
    "    user=\"postgres\",\n",
    "    password=\"80950644dR?)\", \n",
    "    host=\"localhost\",\n",
    "    port=\"9956\"\n",
    ")\n",
    "\n",
    "cur = conn.cursor()\n",
    "\n",
    "cur.execute(\"SELECT * FROM PhoneBook;\")\n",
    "rows = cur.fetchall()\n",
    "\n",
    "for row in rows:\n",
    "    print(row)\n",
    "\n",
    "cur.close()\n",
    "conn.close()"
   ]
  },
  {
   "cell_type": "code",
   "execution_count": 10,
   "metadata": {},
   "outputs": [],
   "source": [
    "import psycopg2\n",
    "\n",
    "def fetch_paginated_data(limit, offset):\n",
    "    conn = psycopg2.connect(\n",
    "    dbname=\"postgres\", \n",
    "    user=\"postgres\",\n",
    "    password=\"80950644dR?)\", \n",
    "    host=\"localhost\",\n",
    "    port=\"9956\"\n",
    ")\n",
    "    cur = conn.cursor()\n",
    "    cur.execute(\"SELECT * FROM PhoneBook ORDER BY id LIMIT %s OFFSET %s;\", (limit, offset))\n",
    "    rows = cur.fetchall()\n",
    "    cur.close()\n",
    "    conn.close()\n",
    "    return rows"
   ]
  },
  {
   "cell_type": "code",
   "execution_count": 11,
   "metadata": {},
   "outputs": [
    {
     "name": "stdout",
     "output_type": "stream",
     "text": [
      "(1, 'Alice', '999999')\n",
      "(7, 'David', '111111')\n"
     ]
    }
   ],
   "source": [
    "data = fetch_paginated_data(2, 0)\n",
    "for row in data:\n",
    "    print(row)"
   ]
  },
  {
   "cell_type": "code",
   "execution_count": 12,
   "metadata": {},
   "outputs": [],
   "source": [
    "import psycopg2\n",
    "\n",
    "conn = psycopg2.connect(\n",
    "    dbname=\"postgres\", \n",
    "    user=\"postgres\",\n",
    "    password=\"80950644dR?)\", \n",
    "    host=\"localhost\",\n",
    "    port=\"9956\"\n",
    ")\n",
    "\n",
    "cur = conn.cursor()\n",
    "\n",
    "cur.execute(\"DROP PROCEDURE IF EXISTS delete_user(IN user_name TEXT, IN user_phone TEXT);\")\n",
    "\n",
    "create_proc = '''\n",
    "CREATE OR REPLACE PROCEDURE delete_user(IN user_name TEXT, IN user_phone TEXT)\n",
    "LANGUAGE plpgsql\n",
    "AS $$\n",
    "BEGIN\n",
    "    DELETE FROM PhoneBook\n",
    "    WHERE name = user_name OR phone = user_phone;\n",
    "END;\n",
    "$$;\n",
    "'''\n",
    "\n",
    "cur.execute(create_proc)\n",
    "conn.commit()\n",
    "cur.close()\n",
    "conn.close()"
   ]
  },
  {
   "attachments": {},
   "cell_type": "markdown",
   "metadata": {},
   "source": [
    "Calling the procedure"
   ]
  },
  {
   "cell_type": "code",
   "execution_count": 13,
   "metadata": {},
   "outputs": [],
   "source": [
    "conn = psycopg2.connect(\n",
    "    dbname=\"postgres\", \n",
    "    user=\"postgres\",\n",
    "    password=\"80950644dR?)\", \n",
    "    host=\"localhost\",\n",
    "    port=\"9956\"\n",
    ")\n",
    "cur = conn.cursor()\n",
    "\n",
    "cur.execute(\"CALL delete_user(%s, %s);\", ('Alice', '87007778899'))\n",
    "\n",
    "conn.commit()\n",
    "cur.close()\n",
    "conn.close()"
   ]
  },
  {
   "attachments": {},
   "cell_type": "markdown",
   "metadata": {},
   "source": [
    "Checking the table`s data"
   ]
  },
  {
   "cell_type": "code",
   "execution_count": 14,
   "metadata": {},
   "outputs": [
    {
     "name": "stdout",
     "output_type": "stream",
     "text": [
      "(8, 'Bob', '12345')\n",
      "(11, 'Daniel', '456456')\n",
      "(14, 'Daniel', '456456')\n",
      "(7, 'David', '111111')\n",
      "(10, 'David', '111111')\n",
      "(13, 'David', '111111')\n"
     ]
    }
   ],
   "source": [
    "import psycopg2\n",
    "\n",
    "conn = psycopg2.connect(\n",
    "    dbname=\"postgres\", \n",
    "    user=\"postgres\",\n",
    "    password=\"80950644dR?)\", \n",
    "    host=\"localhost\",\n",
    "    port=\"9956\"\n",
    ")\n",
    "\n",
    "cur = conn.cursor()\n",
    "\n",
    "cur.execute(\"SELECT * FROM PhoneBook;\")\n",
    "rows = cur.fetchall()\n",
    "\n",
    "for row in rows:\n",
    "    print(row)\n",
    "\n",
    "cur.close()\n",
    "conn.close()"
   ]
  }
 ],
 "metadata": {
  "kernelspec": {
   "display_name": "Python 3",
   "language": "python",
   "name": "python3"
  },
  "language_info": {
   "codemirror_mode": {
    "name": "ipython",
    "version": 3
   },
   "file_extension": ".py",
   "mimetype": "text/x-python",
   "name": "python",
   "nbconvert_exporter": "python",
   "pygments_lexer": "ipython3",
   "version": "3.11.5"
  },
  "orig_nbformat": 4
 },
 "nbformat": 4,
 "nbformat_minor": 2
}
