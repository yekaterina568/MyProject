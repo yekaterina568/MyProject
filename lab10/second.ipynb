{
 "cells": [
  {
   "cell_type": "code",
   "execution_count": 1,
   "metadata": {},
   "outputs": [
    {
     "name": "stdout",
     "output_type": "stream",
     "text": [
      "Таблицы для игры созданы.\n"
     ]
    }
   ],
   "source": [
    "import psycopg2\n",
    "\n",
    "conn = psycopg2.connect(\n",
    "    dbname=\"postgres\", \n",
    "    user=\"postgres\",\n",
    "    password=\"80950644dR?)\", \n",
    "    host=\"localhost\",\n",
    "    port=\"9956\"\n",
    ")\n",
    "cur = conn.cursor()\n",
    "\n",
    "cur.execute('''\n",
    "CREATE TABLE IF NOT EXISTS game_user (\n",
    "    id SERIAL PRIMARY KEY,\n",
    "    username TEXT UNIQUE NOT NULL\n",
    ");\n",
    "''')\n",
    "\n",
    "cur.execute('''\n",
    "CREATE TABLE IF NOT EXISTS user_score (\n",
    "    id SERIAL PRIMARY KEY,\n",
    "    user_id INTEGER REFERENCES game_user(id),\n",
    "    level INTEGER,\n",
    "    score INTEGER,\n",
    "    created_at TIMESTAMP DEFAULT CURRENT_TIMESTAMP\n",
    ");\n",
    "''')\n",
    "\n",
    "conn.commit()\n",
    "cur.close()\n",
    "conn.close()\n",
    "print(\"Таблицы для игры созданы.\")\n"
   ]
  },
  {
   "cell_type": "code",
   "execution_count": 2,
   "metadata": {},
   "outputs": [],
   "source": [
    "def get_or_create_user(username):\n",
    "    conn = psycopg2.connect(\n",
    "    dbname=\"postgres\", \n",
    "    user=\"postgres\",\n",
    "    password=\"80950644dR?)\", \n",
    "    host=\"localhost\",\n",
    "    port=\"9956\"\n",
    ")\n",
    "    cur = conn.cursor()\n",
    "    \n",
    "    cur.execute(\"SELECT id FROM game_user WHERE username = %s\", (username,))\n",
    "    result = cur.fetchone()\n",
    "    \n",
    "    if result:\n",
    "        user_id = result[0]\n",
    "        print(f\"Пользователь найден: {username}\")\n",
    "    else:\n",
    "        cur.execute(\"INSERT INTO game_user (username) VALUES (%s) RETURNING id\", (username,))\n",
    "        user_id = cur.fetchone()[0]\n",
    "        conn.commit()\n",
    "        print(f\"Создан новый пользователь: {username}\")\n",
    "    \n",
    "    cur.close()\n",
    "    conn.close()\n",
    "    return user_id\n"
   ]
  },
  {
   "cell_type": "code",
   "execution_count": 3,
   "metadata": {},
   "outputs": [],
   "source": [
    "def get_user_level(user_id):\n",
    "    conn = psycopg2.connect(\n",
    "    dbname=\"postgres\", \n",
    "    user=\"postgres\",\n",
    "    password=\"80950644dR?)\", \n",
    "    host=\"localhost\",\n",
    "    port=\"9956\"\n",
    ")\n",
    "    cur = conn.cursor()\n",
    "    \n",
    "    cur.execute('''\n",
    "        SELECT level FROM user_score\n",
    "        WHERE user_id = %s\n",
    "        ORDER BY created_at DESC\n",
    "        LIMIT 1;\n",
    "    ''', (user_id,))\n",
    "    \n",
    "    result = cur.fetchone()\n",
    "    level = result[0] if result else 1  \n",
    "    \n",
    "    cur.close()\n",
    "    conn.close()\n",
    "    return level\n"
   ]
  },
  {
   "cell_type": "code",
   "execution_count": 4,
   "metadata": {},
   "outputs": [],
   "source": [
    "def save_game_state(user_id, level, score):\n",
    "    conn = psycopg2.connect(\n",
    "    dbname=\"postgres\", \n",
    "    user=\"postgres\",\n",
    "    password=\"80950644dR?)\", \n",
    "    host=\"localhost\",\n",
    "    port=\"9956\"\n",
    ")\n",
    "    cur = conn.cursor()\n",
    "    \n",
    "    cur.execute('''\n",
    "        INSERT INTO user_score (user_id, level, score)\n",
    "        VALUES (%s, %s, %s);\n",
    "    ''', (user_id, level, score))\n",
    "    \n",
    "    conn.commit()\n",
    "    cur.close()\n",
    "    conn.close()\n",
    "    print(\"Игра сохранена.\")\n"
   ]
  },
  {
   "cell_type": "code",
   "execution_count": 5,
   "metadata": {},
   "outputs": [
    {
     "name": "stdout",
     "output_type": "stream",
     "text": [
      "Создан новый пользователь: User1\n",
      "Текущий уровень: 1\n"
     ]
    }
   ],
   "source": [
    "username = input(\"Введите имя пользователя: \").strip()\n",
    "user_id = get_or_create_user(username)\n",
    "level = get_user_level(user_id)\n",
    "\n",
    "print(f\"Текущий уровень: {level}\")\n"
   ]
  },
  {
   "cell_type": "code",
   "execution_count": null,
   "metadata": {},
   "outputs": [],
   "source": [
    "import psycopg2\n",
    "from datetime import datetime\n",
    "\n",
    "def get_or_create_user(username):\n",
    "    conn = psycopg2.connect(\n",
    "    dbname=\"postgres\", \n",
    "    user=\"postgres\",\n",
    "    password=\"80950644dR?)\", \n",
    "    host=\"localhost\",\n",
    "    port=\"9956\"\n",
    ")\n",
    "    cur = conn.cursor()\n",
    "    cur.execute(\"SELECT id FROM game_user WHERE username = %s\", (username,))\n",
    "    result = cur.fetchone()\n",
    "\n",
    "    if result:\n",
    "        user_id = result[0]\n",
    "    else:\n",
    "        cur.execute(\"INSERT INTO game_user (username) VALUES (%s) RETURNING id\", (username,))\n",
    "        user_id = cur.fetchone()[0]\n",
    "        conn.commit()\n",
    "    \n",
    "    cur.close()\n",
    "    conn.close()\n",
    "    return user_id\n",
    "\n",
    "def save_score(user_id, level, score):\n",
    "    conn = psycopg2.connect(\n",
    "    dbname=\"postgres\", \n",
    "    user=\"postgres\",\n",
    "    password=\"80950644dR?)\", \n",
    "    host=\"localhost\",\n",
    "    port=\"9956\"\n",
    ")\n",
    "    cur = conn.cursor()\n",
    "    cur.execute(\"INSERT INTO user_score (user_id, level, score) VALUES (%s, %s, %s)\",\n",
    "                (user_id, level, score))\n",
    "    conn.commit()\n",
    "    cur.close()\n",
    "    conn.close()\n"
   ]
  }
 ],
 "metadata": {
  "kernelspec": {
   "display_name": "Python 3",
   "language": "python",
   "name": "python3"
  },
  "language_info": {
   "codemirror_mode": {
    "name": "ipython",
    "version": 3
   },
   "file_extension": ".py",
   "mimetype": "text/x-python",
   "name": "python",
   "nbconvert_exporter": "python",
   "pygments_lexer": "ipython3",
   "version": "3.11.5"
  },
  "orig_nbformat": 4
 },
 "nbformat": 4,
 "nbformat_minor": 2
}
