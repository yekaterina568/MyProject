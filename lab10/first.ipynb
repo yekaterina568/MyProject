{
 "cells": [
  {
   "cell_type": "code",
   "execution_count": 1,
   "metadata": {},
   "outputs": [
    {
     "name": "stdout",
     "output_type": "stream",
     "text": [
      "Таблица PhoneBook создана!\n"
     ]
    }
   ],
   "source": [
    "import psycopg2\n",
    "\n",
    "conn = psycopg2.connect(\n",
    "    dbname=\"postgres\", \n",
    "    user=\"postgres\",\n",
    "    password=\"80950644dR?)\", \n",
    "    host=\"localhost\",\n",
    "    port=\"9956\"\n",
    ")\n",
    "\n",
    "cur = conn.cursor()\n",
    "\n",
    "create_table_query = '''\n",
    "CREATE TABLE IF NOT EXISTS PhoneBook (\n",
    "    id SERIAL PRIMARY KEY,\n",
    "    name TEXT NOT NULL,\n",
    "    phone TEXT NOT NULL\n",
    ");\n",
    "'''\n",
    "\n",
    "cur.execute(create_table_query)\n",
    "\n",
    "conn.commit()\n",
    "cur.close()\n",
    "conn.close()\n",
    "\n",
    "print(\"Таблица PhoneBook создана!\")\n"
   ]
  },
  {
   "cell_type": "code",
   "execution_count": 2,
   "metadata": {},
   "outputs": [
    {
     "name": "stdout",
     "output_type": "stream",
     "text": [
      "Данные из CSV загружены в PhoneBook.\n"
     ]
    }
   ],
   "source": [
    "import csv\n",
    "\n",
    "conn = psycopg2.connect(\n",
    "    dbname=\"postgres\",\n",
    "    user=\"postgres\",\n",
    "    password=\"80950644dR?)\",\n",
    "    host=\"localhost\",\n",
    "    port=\"9956\"\n",
    ")\n",
    "cur = conn.cursor()\n",
    "\n",
    "with open('contacts.csv', 'r') as f:\n",
    "    reader = csv.DictReader(f)\n",
    "    for row in reader:\n",
    "        cur.execute(\n",
    "            \"INSERT INTO PhoneBook (name, phone) VALUES (%s, %s)\",\n",
    "            (row['name'], row['phone'])\n",
    "        )\n",
    "\n",
    "conn.commit()\n",
    "cur.close()\n",
    "conn.close()\n",
    "\n",
    "print(\"Данные из CSV загружены в PhoneBook.\")"
   ]
  },
  {
   "cell_type": "code",
   "execution_count": 11,
   "metadata": {},
   "outputs": [
    {
     "name": "stdout",
     "output_type": "stream",
     "text": [
      "Контакт добавлен.\n"
     ]
    }
   ],
   "source": [
    "name = input(\"Ввудите имя: \")\n",
    "phone = input(\"Введите номер: \")\n",
    "\n",
    "conn = psycopg2.connect(\n",
    "    dbname=\"postgres\",\n",
    "    user=\"postgres\",\n",
    "    password=\"80950644dR?)\",\n",
    "    host=\"localhost\",\n",
    "    port=\"9956\"\n",
    ")\n",
    "cur = conn.cursor()\n",
    "\n",
    "cur.execute(\n",
    "    \"INSERT INTO PhoneBook (name, phone) VALUES (%s, %s)\",\n",
    "    (name, phone)\n",
    ")\n",
    "\n",
    "conn.commit()\n",
    "cur.close()\n",
    "conn.close()\n",
    "\n",
    "print(\"Контакт добавлен.\")\n"
   ]
  },
  {
   "cell_type": "code",
   "execution_count": 4,
   "metadata": {},
   "outputs": [
    {
     "name": "stdout",
     "output_type": "stream",
     "text": [
      "Данные обновлены.\n"
     ]
    }
   ],
   "source": [
    "name = input(\"Bob\")\n",
    "new_phone = input(\"905348\")\n",
    "\n",
    "conn = psycopg2.connect(\n",
    "    dbname=\"postgres\",\n",
    "    user=\"postgres\",\n",
    "    password=\"80950644dR?)\",\n",
    "    host=\"localhost\",\n",
    "    port=\"9956\"\n",
    ")\n",
    "cur = conn.cursor()\n",
    "\n",
    "cur.execute(\n",
    "    \"UPDATE PhoneBook SET phone = %s WHERE name = %s\",\n",
    "    (new_phone, name)\n",
    ")\n",
    "\n",
    "conn.commit()\n",
    "cur.close()\n",
    "conn.close()\n",
    "\n",
    "print(\"Данные обновлены.\")"
   ]
  },
  {
   "cell_type": "code",
   "execution_count": 13,
   "metadata": {},
   "outputs": [
    {
     "name": "stdout",
     "output_type": "stream",
     "text": [
      "Все записи:\n",
      "(1, 'Alice', '123456')\n",
      "(2, 'Bob', '987654')\n",
      "(7, 'David', '556823')\n",
      "\n",
      "Фильтр по имени Alice:\n",
      "(1, 'Alice', '123456')\n",
      "\n",
      "Фильтр по номеру, содержащему 123:\n",
      "(1, 'Alice', '123456')\n"
     ]
    }
   ],
   "source": [
    "import psycopg2\n",
    "\n",
    "conn = psycopg2.connect(\n",
    "    dbname=\"postgres\",\n",
    "    user=\"postgres\",\n",
    "    password=\"80950644dR?)\",\n",
    "    host=\"localhost\",\n",
    "    port=\"9956\"\n",
    ")\n",
    "cur = conn.cursor()\n",
    "\n",
    "cur.execute(\"SELECT * FROM PhoneBook\")\n",
    "print(\"Все записи:\")\n",
    "for row in cur.fetchall():\n",
    "    print(row)\n",
    "\n",
    "cur.execute(\"SELECT * FROM PhoneBook WHERE name = %s\", (\"Alice\",))\n",
    "print(\"\\nФильтр по имени Alice:\")\n",
    "for row in cur.fetchall():\n",
    "    print(row)\n",
    "\n",
    "cur.execute(\"SELECT * FROM PhoneBook WHERE phone LIKE %s\", (\"%123%\",))\n",
    "print(\"\\nФильтр по номеру, содержащему 123:\")\n",
    "for row in cur.fetchall():\n",
    "    print(row)\n",
    "\n",
    "cur.close()\n",
    "conn.close()\n"
   ]
  },
  {
   "cell_type": "code",
   "execution_count": 14,
   "metadata": {},
   "outputs": [
    {
     "name": "stdout",
     "output_type": "stream",
     "text": [
      "Удалено записей: 1\n"
     ]
    }
   ],
   "source": [
    "import psycopg2\n",
    "\n",
    "conn = psycopg2.connect(\n",
    "    dbname=\"postgres\",\n",
    "    user=\"postgres\",\n",
    "    password=\"80950644dR?)\",\n",
    "    host=\"localhost\",\n",
    "    port=\"9956\"\n",
    ")\n",
    "cur = conn.cursor()\n",
    "\n",
    "delete_name = input(\"Введите имя: \")\n",
    "\n",
    "cur.execute(\"DELETE FROM PhoneBook WHERE name = %s\", (delete_name,))\n",
    "conn.commit()\n",
    "\n",
    "if cur.rowcount == 0:\n",
    "    print(\"Ничего не найдено с таким именем.\")\n",
    "else:\n",
    "    print(f\"Удалено записей: {cur.rowcount}\")\n",
    "\n",
    "cur.close()\n",
    "conn.close()\n"
   ]
  }
 ],
 "metadata": {
  "kernelspec": {
   "display_name": "Python 3",
   "language": "python",
   "name": "python3"
  },
  "language_info": {
   "codemirror_mode": {
    "name": "ipython",
    "version": 3
   },
   "file_extension": ".py",
   "mimetype": "text/x-python",
   "name": "python",
   "nbconvert_exporter": "python",
   "pygments_lexer": "ipython3",
   "version": "3.11.5"
  },
  "orig_nbformat": 4
 },
 "nbformat": 4,
 "nbformat_minor": 2
}
