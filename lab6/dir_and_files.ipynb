{
 "cells": [
  {
   "attachments": {},
   "cell_type": "markdown",
   "metadata": {},
   "source": [
    "                                            Python Directories and Files exercises"
   ]
  },
  {
   "cell_type": "code",
   "execution_count": 13,
   "metadata": {},
   "outputs": [
    {
     "name": "stdout",
     "output_type": "stream",
     "text": [
      "Directories: []\n",
      "Files: ['builtin_functions.ipynb', 'dir_and_files.ipynb']\n",
      "All: ['builtin_functions.ipynb', 'dir_and_files.ipynb']\n"
     ]
    }
   ],
   "source": [
    "import os\n",
    "\n",
    "def list_directory_contents(path=\".\"):\n",
    "    all_items = os.listdir(path)\n",
    "    \n",
    "    files = [f for f in all_items if os.path.isfile(os.path.join(path, f))]\n",
    "    directories = [d for d in all_items if os.path.isdir(os.path.join(path, d))]\n",
    "    \n",
    "    print(\"Directories:\", directories)\n",
    "    print(\"Files:\", files)\n",
    "    print(\"All:\", all_items)\n",
    "\n",
    "specified_path = \".\"  \n",
    "list_directory_contents(specified_path)\n",
    "\n"
   ]
  },
  {
   "cell_type": "code",
   "execution_count": 10,
   "metadata": {},
   "outputs": [
    {
     "name": "stdout",
     "output_type": "stream",
     "text": [
      "Путь: C:\\Users\\User\\MyProject\\lab6\\dir_and_files.ipynb\n",
      "Существует: True\n",
      "Читаемый: True\n",
      "Записываемый: True\n",
      "Исполняемый: True\n"
     ]
    }
   ],
   "source": [
    "def check_path_access(path):\n",
    "    if not os.path.exists(path):\n",
    "        print(f\"Путь '{path}' не существует.\")\n",
    "        return\n",
    "\n",
    "    print(f\"Путь: {path}\")\n",
    "    print(\"Существует:\", os.path.exists(path))\n",
    "    print(\"Читаемый:\", os.access(path, os.R_OK))\n",
    "    print(\"Записываемый:\", os.access(path, os.W_OK))\n",
    "    print(\"Исполняемый:\", os.access(path, os.X_OK))\n",
    "\n",
    "specified_path = r\"C:\\Users\\User\\MyProject\\lab6\\dir_and_files.ipynb\"\n",
    "check_path_access(specified_path)\n"
   ]
  },
  {
   "cell_type": "code",
   "execution_count": 9,
   "metadata": {},
   "outputs": [
    {
     "name": "stdout",
     "output_type": "stream",
     "text": [
      "Путь: C:\\Users\\User\\MyProject\\lab6\\dir_and_files.ipynb\n",
      "Имя файла: dir_and_files.ipynb\n",
      "Директория: C:\\Users\\User\\MyProject\\lab6\n"
     ]
    }
   ],
   "source": [
    "def check_path_info(path):\n",
    "    if not os.path.exists(path):\n",
    "        print(f\"Путь '{path}' не существует.\")\n",
    "        return\n",
    "\n",
    "    print(f\"Путь: {path}\")\n",
    "    print(\"Имя файла:\", os.path.basename(path))\n",
    "    print(\"Директория:\", os.path.dirname(path))\n",
    "\n",
    "specified_path = r\"C:\\Users\\User\\MyProject\\lab6\\dir_and_files.ipynb\"\n",
    "check_path_info(specified_path)\n"
   ]
  },
  {
   "cell_type": "code",
   "execution_count": 14,
   "metadata": {},
   "outputs": [
    {
     "name": "stdout",
     "output_type": "stream",
     "text": [
      "Количество строк в файле 'C:\\Users\\User\\MyProject\\lab6\\builtin_functions.ipynb': 162\n"
     ]
    }
   ],
   "source": [
    "def count_lines_in_file(file_path):\n",
    "    try:\n",
    "        with open(file_path, \"r\", encoding=\"utf-8\") as file:\n",
    "            return sum(1 for _ in file)\n",
    "    except FileNotFoundError:\n",
    "        print(f\"Ошибка: Файл '{file_path}' не найден.\")\n",
    "        return None\n",
    "\n",
    "file_path = r\"C:\\Users\\User\\MyProject\\lab6\\builtin_functions.ipynb\" \n",
    "lines_count = count_lines_in_file(file_path)\n",
    "\n",
    "if lines_count is not None:\n",
    "    print(f\"Количество строк в файле '{file_path}': {lines_count}\")\n"
   ]
  },
  {
   "cell_type": "code",
   "execution_count": 24,
   "metadata": {},
   "outputs": [
    {
     "name": "stdout",
     "output_type": "stream",
     "text": [
      "Список успешно записан в файл 'C:\\Users\\User\\MyProject\\lab6\\example_of_usage.txt'.\n"
     ]
    }
   ],
   "source": [
    "def write_list_to_file(file_path, data_list):\n",
    "    try:\n",
    "        with open(file_path, \"w\", encoding=\"utf-8\") as file: \n",
    "            for item in data_list:\n",
    "                file.write(str(item) + \"\\n\") \n",
    "        print(f\"Список успешно записан в файл '{file_path}'.\")\n",
    "    except Exception as e:\n",
    "        print(f\"Ошибка при записи файла: {e}\")\n",
    "\n",
    "my_list = [\"Apple\", \"Banana\", \"Cherry\", 42, 3.14]  \n",
    "file_path = r\"C:\\Users\\User\\MyProject\\lab6\\example_of_usage.txt\" \n",
    "write_list_to_file(file_path, my_list)\n"
   ]
  },
  {
   "cell_type": "code",
   "execution_count": 21,
   "metadata": {},
   "outputs": [
    {
     "name": "stdout",
     "output_type": "stream",
     "text": [
      "Apple\n",
      "Banana\n",
      "Cherry\n",
      "42\n",
      "3.14\n",
      "\n"
     ]
    }
   ],
   "source": [
    "with open(file_path, \"r\") as file:\n",
    "    print(file.read())"
   ]
  },
  {
   "cell_type": "code",
   "execution_count": 22,
   "metadata": {},
   "outputs": [
    {
     "name": "stdout",
     "output_type": "stream",
     "text": [
      "Создан файл: A.txt\n",
      "Создан файл: B.txt\n",
      "Создан файл: C.txt\n",
      "Создан файл: D.txt\n",
      "Создан файл: E.txt\n",
      "Создан файл: F.txt\n",
      "Создан файл: G.txt\n",
      "Создан файл: H.txt\n",
      "Создан файл: I.txt\n",
      "Создан файл: J.txt\n",
      "Создан файл: K.txt\n",
      "Создан файл: L.txt\n",
      "Создан файл: M.txt\n",
      "Создан файл: N.txt\n",
      "Создан файл: O.txt\n",
      "Создан файл: P.txt\n",
      "Создан файл: Q.txt\n",
      "Создан файл: R.txt\n",
      "Создан файл: S.txt\n",
      "Создан файл: T.txt\n",
      "Создан файл: U.txt\n",
      "Создан файл: V.txt\n",
      "Создан файл: W.txt\n",
      "Создан файл: X.txt\n",
      "Создан файл: Y.txt\n",
      "Создан файл: Z.txt\n"
     ]
    }
   ],
   "source": [
    "import string\n",
    "\n",
    "def create_alphabet_files():\n",
    "    for letter in string.ascii_uppercase: \n",
    "        file_name = f\"{letter}.txt\"\n",
    "        with open(file_name, \"w\", encoding=\"utf-8\") as file:\n",
    "            file.write(f\"This is file {file_name}\\n\")\n",
    "        print(f\"Создан файл: {file_name}\")\n",
    "\n",
    "create_alphabet_files()\n"
   ]
  },
  {
   "cell_type": "code",
   "execution_count": 1,
   "metadata": {},
   "outputs": [
    {
     "name": "stdout",
     "output_type": "stream",
     "text": [
      "Файл 'C:\\Users\\User\\MyProject\\lab6\\example_of_usage.txt' успешно скопирован в 'C:\\Users\\User\\MyProject\\lab6\\A.txt'.\n"
     ]
    }
   ],
   "source": [
    "import shutil\n",
    "\n",
    "def copy_file(source, destination):\n",
    "    try:\n",
    "        shutil.copyfile(source, destination)\n",
    "        print(f\"Файл '{source}' успешно скопирован в '{destination}'.\")\n",
    "    except FileNotFoundError:\n",
    "        print(f\"Ошибка: Файл '{source}' не найден.\")\n",
    "    except Exception as e:\n",
    "        print(f\"Ошибка при копировании: {e}\")\n",
    "\n",
    "copy_file(r\"C:\\Users\\User\\MyProject\\lab6\\example_of_usage.txt\", r\"C:\\Users\\User\\MyProject\\lab6\\A.txt\")\n"
   ]
  },
  {
   "cell_type": "code",
   "execution_count": 2,
   "metadata": {},
   "outputs": [
    {
     "name": "stdout",
     "output_type": "stream",
     "text": [
      "Apple\n",
      "Banana\n",
      "Cherry\n",
      "42\n",
      "3.14\n",
      "\n"
     ]
    }
   ],
   "source": [
    "path = r\"C:\\Users\\User\\MyProject\\lab6\\A.txt\"\n",
    "with open(path, \"r\") as file:\n",
    "    print(file.read())"
   ]
  },
  {
   "cell_type": "code",
   "execution_count": 4,
   "metadata": {},
   "outputs": [
    {
     "name": "stdout",
     "output_type": "stream",
     "text": [
      "Файл 'C:\\Users\\User\\MyProject\\lab6\\file_to_del.txt' успешно удалён.\n"
     ]
    }
   ],
   "source": [
    "import os\n",
    "def delete_file(file_path):\n",
    "    if os.path.exists(file_path):\n",
    "        if os.access(file_path, os.W_OK):\n",
    "            try:\n",
    "                os.remove(file_path) \n",
    "                print(f\"Файл '{file_path}' успешно удалён.\")\n",
    "            except Exception as e:\n",
    "                print(f\"Ошибка при удалении файла: {e}\")\n",
    "        else:\n",
    "            print(f\"Ошибка: Нет прав на удаление файла '{file_path}'.\")\n",
    "    else:\n",
    "        print(f\"Ошибка: Файл '{file_path}' не существует.\")\n",
    "\n",
    "delete_file(r\"C:\\Users\\User\\MyProject\\lab6\\file_to_del.txt\") \n"
   ]
  },
  {
   "cell_type": "code",
   "execution_count": 5,
   "metadata": {},
   "outputs": [
    {
     "name": "stdout",
     "output_type": "stream",
     "text": [
      "False\n"
     ]
    }
   ],
   "source": [
    "print(os.path.exists(r\"C:\\Users\\User\\MyProject\\lab6\\file_to_del.txt\"))"
   ]
  }
 ],
 "metadata": {
  "kernelspec": {
   "display_name": "Python 3",
   "language": "python",
   "name": "python3"
  },
  "language_info": {
   "codemirror_mode": {
    "name": "ipython",
    "version": 3
   },
   "file_extension": ".py",
   "mimetype": "text/x-python",
   "name": "python",
   "nbconvert_exporter": "python",
   "pygments_lexer": "ipython3",
   "version": "3.11.5"
  },
  "orig_nbformat": 4
 },
 "nbformat": 4,
 "nbformat_minor": 2
}
