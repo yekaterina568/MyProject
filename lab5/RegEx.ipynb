{
 "cells": [
  {
   "attachments": {},
   "cell_type": "markdown",
   "metadata": {},
   "source": [
    "                                                       Python RegEx Exercises"
   ]
  },
  {
   "cell_type": "code",
   "execution_count": 1,
   "metadata": {},
   "outputs": [
    {
     "name": "stdout",
     "output_type": "stream",
     "text": [
      "'a' matches: True\n",
      "'ab' matches: True\n",
      "'abb' matches: True\n",
      "'b' matches: True\n",
      "'aaa' matches: True\n",
      "'aabb' matches: True\n",
      "'' matches: True\n",
      "'bbb' matches: True\n"
     ]
    }
   ],
   "source": [
    "import re\n",
    "\n",
    "def match_pattern(s):\n",
    "    pattern = r'^a*b*$'\n",
    "    if re.fullmatch(pattern, s):\n",
    "        return True\n",
    "    return False\n",
    "\n",
    "text = [\"a\", \"ab\", \"abb\", \"b\", \"aaa\", \"aabb\", \"\", \"bbb\"]\n",
    "for s in text:\n",
    "    print(f\"'{s}' matches: {match_pattern(s)}\")"
   ]
  },
  {
   "cell_type": "code",
   "execution_count": 4,
   "metadata": {},
   "outputs": [
    {
     "name": "stdout",
     "output_type": "stream",
     "text": [
      "'a' matches: False\n",
      "'ab' matches: False\n",
      "'abb' matches: True\n",
      "'b' matches: False\n",
      "'aaa' matches: False\n",
      "'aabb' matches: False\n",
      "'' matches: False\n",
      "'bbb' matches: False\n"
     ]
    }
   ],
   "source": [
    "def string_matches(s):\n",
    "    pattern = r'^a{1}b{2,3}$'\n",
    "    if re.fullmatch(pattern, s):\n",
    "        return True\n",
    "    return False\n",
    "\n",
    "text = [\"a\", \"ab\", \"abb\", \"b\", \"aaa\", \"aabb\", \"\", \"bbb\"]\n",
    "for s in text:\n",
    "    print(f\"'{s}' matches: {string_matches(s)}\")"
   ]
  },
  {
   "cell_type": "code",
   "execution_count": 10,
   "metadata": {},
   "outputs": [
    {
     "name": "stdout",
     "output_type": "stream",
     "text": [
      "abc_efg\n",
      "bdfj_sjk\n"
     ]
    }
   ],
   "source": [
    "def sequences(s):\n",
    "    pattern = r'^[a-z]+_[a-z]+$'\n",
    "    if re.fullmatch(pattern, s):\n",
    "        return True\n",
    "    return False\n",
    "\n",
    "text = [\"abc_efg\", \"a\", \"abc\", \"bdfj_sjk\", \"Ajc_JAJJ\", \"js3_sks3\"]\n",
    "for s in text:\n",
    "    if(sequences(s)):\n",
    "        print(s)"
   ]
  },
  {
   "cell_type": "code",
   "execution_count": 16,
   "metadata": {},
   "outputs": [
    {
     "name": "stdout",
     "output_type": "stream",
     "text": [
      "Abc\n",
      "Jmcv\n"
     ]
    }
   ],
   "source": [
    "def match_seq(s):\n",
    "    pattern = r'^[A-Z][a-z]+$'\n",
    "    if re.fullmatch(pattern, s):\n",
    "        return True\n",
    "    return False\n",
    "\n",
    "text = [\"JMmmc\", \"Abc\", \"sj_akd\", \"ajsAK\", \"S,mc\", \"Jmcv\"]\n",
    "for s in text:\n",
    "    if (match_seq(s)):\n",
    "        print(s)"
   ]
  },
  {
   "cell_type": "code",
   "execution_count": 18,
   "metadata": {},
   "outputs": [
    {
     "name": "stdout",
     "output_type": "stream",
     "text": [
      "adkkndb\n",
      "a_b\n",
      "a90b\n",
      "a9b\n",
      "a b\n"
     ]
    }
   ],
   "source": [
    "def match(s):\n",
    "    pattern = r'^a.*b$'\n",
    "    if re.fullmatch(pattern, s):\n",
    "        return True\n",
    "    return False\n",
    "\n",
    "text = [\"abc\", \"adkkndb\", \"djjc\", \"a_b\", \"a90b\", \"aAamsb_\", \"a9b\", \"a b\", \"a \"]\n",
    "for s in text:\n",
    "    if(match(s)):\n",
    "        print(s)"
   ]
  },
  {
   "cell_type": "code",
   "execution_count": 25,
   "metadata": {},
   "outputs": [
    {
     "name": "stdout",
     "output_type": "stream",
     "text": [
      "Madagascar:has:two:seasons::a:warm::wet:season:from:November:to:April::and:a:cooler:dry:season:between:May:and:October:\n"
     ]
    }
   ],
   "source": [
    "text = \"Madagascar has two seasons, a warm, wet season from November to April, and a cooler dry season between May and October.\"\n",
    "pattern = r' |,|\\.'\n",
    "res = re.sub(pattern, \":\", text)\n",
    "print(res)"
   ]
  },
  {
   "cell_type": "code",
   "execution_count": 32,
   "metadata": {},
   "outputs": [
    {
     "name": "stdout",
     "output_type": "stream",
     "text": [
      "anyExample\n"
     ]
    }
   ],
   "source": [
    "def snake_to_camel(snake_str):\n",
    "    words = snake_str.split('_')\n",
    "    return words[0] + ''.join(word.capitalize() for word in words[1:])\n",
    "\n",
    "snake_str = \"any_example\"\n",
    "camel_str = snake_to_camel(snake_str)\n",
    "print(camel_str) \n",
    "\n"
   ]
  },
  {
   "cell_type": "code",
   "execution_count": 29,
   "metadata": {},
   "outputs": [
    {
     "name": "stdout",
     "output_type": "stream",
     "text": [
      "['Hello', 'World', 'Example']\n"
     ]
    }
   ],
   "source": [
    "def split_at_uppercase(s):\n",
    "    return re.findall(r'[A-Z][a-z]*', s)\n",
    "\n",
    "text = \"HelloWorldExample\"\n",
    "result = split_at_uppercase(text)\n",
    "print(result)\n"
   ]
  },
  {
   "cell_type": "code",
   "execution_count": 30,
   "metadata": {},
   "outputs": [
    {
     "name": "stdout",
     "output_type": "stream",
     "text": [
      "Hello World Example\n"
     ]
    }
   ],
   "source": [
    "def insert_spaces(s):\n",
    "    return re.sub(r'(?<!^)([A-Z])', r' \\1', s)\n",
    "\n",
    "text = \"HelloWorldExample\"\n",
    "result = insert_spaces(text)\n",
    "print(result)\n"
   ]
  },
  {
   "cell_type": "code",
   "execution_count": 31,
   "metadata": {},
   "outputs": [
    {
     "name": "stdout",
     "output_type": "stream",
     "text": [
      "hello_world_example\n"
     ]
    }
   ],
   "source": [
    "def camel_to_snake(s):\n",
    "    return re.sub(r'(?<!^)([A-Z])', r'_\\1', s).lower()\n",
    "\n",
    "text = \"HelloWorldExample\"\n",
    "snake_case_text = camel_to_snake(text)\n",
    "print(snake_case_text)"
   ]
  }
 ],
 "metadata": {
  "kernelspec": {
   "display_name": "Python 3",
   "language": "python",
   "name": "python3"
  },
  "language_info": {
   "codemirror_mode": {
    "name": "ipython",
    "version": 3
   },
   "file_extension": ".py",
   "mimetype": "text/x-python",
   "name": "python",
   "nbconvert_exporter": "python",
   "pygments_lexer": "ipython3",
   "version": "3.11.5"
  },
  "orig_nbformat": 4
 },
 "nbformat": 4,
 "nbformat_minor": 2
}
