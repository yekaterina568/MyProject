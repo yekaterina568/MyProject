{
 "cells": [
  {
   "cell_type": "code",
   "execution_count": 4,
   "metadata": {},
   "outputs": [
    {
     "name": "stdout",
     "output_type": "stream",
     "text": [
      "{'name': 'Натрия хлорид 0,9%, 200 мл, фл', 'quantity': 2.0, 'price': 154.0, 'total': 308.0}\n",
      "{'name': 'Борный спирт 3%, 20 мл, фл.', 'quantity': 1.0, 'price': 51.0, 'total': 51.0}\n",
      "{'name': 'Шприц 2 мл, 3-х комп. (Bioject)', 'quantity': 2.0, 'price': 16.0, 'total': 32.0}\n",
      "{'name': 'Система для инфузии Vogt Medical', 'quantity': 2.0, 'price': 60.0, 'total': 120.0}\n",
      "{'name': 'Naturella прокладки Классик макси №8', 'quantity': 1.0, 'price': 310.0, 'total': 310.0}\n"
     ]
    }
   ],
   "source": [
    "import re\n",
    "\n",
    "def parse_receipt_from_file(filename):\n",
    "    with open(filename, 'r', encoding='utf-8') as file:\n",
    "        text = file.read()\n",
    "    \n",
    "    pattern = re.compile(r'(?P<name>.+?)\\n(?P<quantity>\\d+,?\\d*) x (?P<price>[\\d\\s]+,\\d{2})\\n(?P<total>[\\d\\s]+,\\d{2})')\n",
    "    matches = pattern.findall(text)\n",
    "    \n",
    "    items = []\n",
    "    for match in matches:\n",
    "        name = match[0].strip()\n",
    "        quantity = match[1].replace(',', '.').strip()\n",
    "        price = match[2].replace(' ', '').replace(',', '.').strip()\n",
    "        total = match[3].replace(' ', '').replace(',', '.').strip()\n",
    "        items.append({\"name\": name, \"quantity\": float(quantity), \"price\": float(price), \"total\": float(total)})\n",
    "    \n",
    "    return items\n",
    "\n",
    "filename = \"row.txt\"\n",
    "parsed_items = parse_receipt_from_file(filename)\n",
    "for item in parsed_items[:5]:\n",
    "    print(item)\n"
   ]
  }
 ],
 "metadata": {
  "kernelspec": {
   "display_name": "Python 3",
   "language": "python",
   "name": "python3"
  },
  "language_info": {
   "codemirror_mode": {
    "name": "ipython",
    "version": 3
   },
   "file_extension": ".py",
   "mimetype": "text/x-python",
   "name": "python",
   "nbconvert_exporter": "python",
   "pygments_lexer": "ipython3",
   "version": "3.11.5"
  },
  "orig_nbformat": 4
 },
 "nbformat": 4,
 "nbformat_minor": 2
}
