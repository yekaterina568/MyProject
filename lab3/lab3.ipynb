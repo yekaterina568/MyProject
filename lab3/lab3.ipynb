{
 "cells": [
  {
   "attachments": {},
   "cell_type": "markdown",
   "metadata": {},
   "source": [
    "                                                                Python Functions 1"
   ]
  },
  {
   "cell_type": "code",
   "execution_count": 3,
   "metadata": {},
   "outputs": [
    {
     "name": "stdout",
     "output_type": "stream",
     "text": [
      "120.0 grams is equal to 3401.943 ounces.\n"
     ]
    }
   ],
   "source": [
    "def conversion(a):\n",
    "    res = 28.3495231 * a\n",
    "    return res\n",
    "\n",
    "grams = float(input(\"How many grams do you have?\"))\n",
    "print(f\"{grams} grams is equal to {conversion(grams):.3f} ounces.\")"
   ]
  },
  {
   "cell_type": "code",
   "execution_count": 6,
   "metadata": {},
   "outputs": [
    {
     "name": "stdout",
     "output_type": "stream",
     "text": [
      "54.0° F is equal to 12.222° C\n"
     ]
    }
   ],
   "source": [
    "def conversion(a):\n",
    "    res = (5 / 9)*(a - 32)\n",
    "    return res\n",
    "\n",
    "F = float(input(\"What's a Fahrenheit temperature?\"))\n",
    "print(f\"{F}°F is equal to {conversion(F):.3f}°C\")"
   ]
  },
  {
   "cell_type": "code",
   "execution_count": 7,
   "metadata": {},
   "outputs": [
    {
     "name": "stdout",
     "output_type": "stream",
     "text": [
      "Chickens: 23, Rabbits: 12\n"
     ]
    }
   ],
   "source": [
    "def solve(numheads, numlegs):\n",
    "    for chickens in range(numheads + 1):\n",
    "        rabbits = numheads - chickens\n",
    "        if (chickens * 2 + rabbits * 4) == numlegs: \n",
    "            return chickens, rabbits\n",
    "    return \"No solution\"\n",
    "\n",
    "numheads = 35\n",
    "numlegs = 94\n",
    "chickens, rabbits = solve(numheads, numlegs)\n",
    "print(f\"Chickens: {chickens}, Rabbits: {rabbits}\")"
   ]
  },
  {
   "cell_type": "code",
   "execution_count": 11,
   "metadata": {},
   "outputs": [
    {
     "name": "stdout",
     "output_type": "stream",
     "text": [
      "[2, 3, 5]\n"
     ]
    }
   ],
   "source": [
    "def is_prime(num):\n",
    "    if num<2:\n",
    "        return False\n",
    "    for i  in range(2, int(num**0.5)+1):\n",
    "        if num % i ==0:\n",
    "            return False\n",
    "    return True\n",
    "\n",
    "def filter_prime(nums):\n",
    "    return[num for num in nums if is_prime(num)]\n",
    "\n",
    "nums = list(map(int, input(\"Enter numbers separated by spaces: \").split()))\n",
    "print(filter_prime(nums))"
   ]
  },
  {
   "cell_type": "code",
   "execution_count": 108,
   "metadata": {},
   "outputs": [
    {
     "name": "stdout",
     "output_type": "stream",
     "text": [
      "abc\n",
      "acb\n",
      "bac\n",
      "bca\n",
      "cab\n",
      "cba\n"
     ]
    }
   ],
   "source": [
    "def permutation(s, prefix=\"\"):\n",
    "    if len(s)==0:\n",
    "        print(prefix)\n",
    "    else:\n",
    "        for i in range(len(s)):\n",
    "            rem = s[:i] +s[i+1:]\n",
    "            permutation(rem, prefix + s[i])\n",
    "\n",
    "word = input(\"Enter your string: \")\n",
    "permutation(word)"
   ]
  },
  {
   "cell_type": "code",
   "execution_count": 20,
   "metadata": {},
   "outputs": [
    {
     "name": "stdout",
     "output_type": "stream",
     "text": [
      "ready are We\n"
     ]
    }
   ],
   "source": [
    "def reversed(s):\n",
    "    words = s.split()\n",
    "    reversed_words = words[::-1]\n",
    "    return \" \".join(reversed_words)\n",
    "\n",
    "sentence = (input(\"Enter your sentence: \"))\n",
    "res = reversed(sentence)\n",
    "print(res)"
   ]
  },
  {
   "cell_type": "code",
   "execution_count": 35,
   "metadata": {},
   "outputs": [
    {
     "name": "stdout",
     "output_type": "stream",
     "text": [
      "True\n",
      "False\n",
      "False\n"
     ]
    }
   ],
   "source": [
    "def has_33 (nums):\n",
    "    for i in range(len(nums)-1):\n",
    "        if nums[i] == 3 and nums[i+1] ==3:\n",
    "            return True\n",
    "    return False\n",
    "\n",
    "print(has_33([1, 3, 3]))\n",
    "print(has_33([1, 3, 1, 3]))\n",
    "print(has_33([3, 1, 3]))"
   ]
  },
  {
   "cell_type": "code",
   "execution_count": 39,
   "metadata": {},
   "outputs": [
    {
     "name": "stdout",
     "output_type": "stream",
     "text": [
      "True\n",
      "True\n",
      "False\n"
     ]
    }
   ],
   "source": [
    "def spy_game(nums):\n",
    "    code = [0, 0, 7]\n",
    "\n",
    "    for num in nums:\n",
    "        if num == code[0]:\n",
    "            code.pop(0)\n",
    "        if not code: return True\n",
    "    return False\n",
    "\n",
    "print(spy_game([1, 2, 4, 0, 0, 7, 5]))\n",
    "print(spy_game([1, 0, 2, 4, 0, 5, 7]))\n",
    "print(spy_game([1, 7, 2, 0, 4, 5, 0]))"
   ]
  },
  {
   "cell_type": "code",
   "execution_count": 45,
   "metadata": {},
   "outputs": [
    {
     "name": "stdout",
     "output_type": "stream",
     "text": [
      "523.5987755982989\n"
     ]
    }
   ],
   "source": [
    "import math\n",
    "\n",
    "def find_volume(r):\n",
    "    s = (4/3) * math.pi * (r**3)\n",
    "    return s\n",
    "\n",
    "radius = float(input(\"Enter your radius: \"))\n",
    "print(find_volume(radius))"
   ]
  },
  {
   "cell_type": "code",
   "execution_count": 51,
   "metadata": {},
   "outputs": [
    {
     "name": "stdout",
     "output_type": "stream",
     "text": [
      "['a', 'b', 'c', 'd', 'e', 'i']\n"
     ]
    }
   ],
   "source": [
    "def unique(e):\n",
    "    a = list()\n",
    "    for i in e:\n",
    "        if(i not in a):\n",
    "            a.append(i)\n",
    "    return a\n",
    "\n",
    "elements = list((input(\"Enter your elements: \")).split())\n",
    "print(unique(elements))"
   ]
  },
  {
   "cell_type": "code",
   "execution_count": 57,
   "metadata": {},
   "outputs": [
    {
     "name": "stdout",
     "output_type": "stream",
     "text": [
      "Yes, it`s a palindrome\n"
     ]
    }
   ],
   "source": [
    "def is_palindrome(s):\n",
    "    s=s.lower()\n",
    "    reversed = s[::-1]\n",
    "    if reversed == s:\n",
    "        return \"Yes, it`s a palindrome\"\n",
    "    return \"No, it`s not a palindrome\"\n",
    "\n",
    "word = input(\"Enter your word: \")\n",
    "print(is_palindrome(word))"
   ]
  },
  {
   "cell_type": "code",
   "execution_count": 61,
   "metadata": {},
   "outputs": [
    {
     "name": "stdout",
     "output_type": "stream",
     "text": [
      "*\n",
      "**\n",
      "***\n"
     ]
    }
   ],
   "source": [
    "def histogram(nums):\n",
    "    for i in nums:\n",
    "        print ('*' * i)\n",
    "    \n",
    "nums=list(map(int, input(\"Enter ypur numbers: \").split()))\n",
    "histogram(nums)"
   ]
  },
  {
   "cell_type": "code",
   "execution_count": 78,
   "metadata": {},
   "outputs": [
    {
     "name": "stdout",
     "output_type": "stream",
     "text": [
      "Hello! What is your name?\n",
      "Well, KBTU, I am thinking of a number between 1 and 20.\n",
      "Take a guess.\n",
      "Your number is too low.\n",
      "Take a guess.\n",
      "Your number is too low.\n",
      "Take a guess.\n",
      "Your number is too low.\n",
      "Take a guess.\n",
      "Your number is too low.\n",
      "Take a guess.\n",
      "Your number is too low.\n",
      "Take a guess.\n",
      "Good job, KBTU! You guessed my number in 6 guesses!\n"
     ]
    }
   ],
   "source": [
    "import random\n",
    "\n",
    "def guess():\n",
    "    print(\"Hello! What is your name?\")\n",
    "    name =input()\n",
    "    print(f\"Well, {name}, I am thinking of a number between 1 and 20.\")\n",
    "    a = random.randint(1, 20)\n",
    "    count = 0\n",
    "    while True:\n",
    "        print(\"Take a guess.\")\n",
    "        b = input()\n",
    "\n",
    "        try:\n",
    "            b = int(b)\n",
    "        except ValueError:\n",
    "            print(\"Please enter a valid number.\")\n",
    "            continue\n",
    "        count +=1\n",
    "        \n",
    "        if b<a:\n",
    "            print('Your number is too low.')\n",
    "        elif b>a:\n",
    "            print(\"Your number is too high.\")\n",
    "        else:\n",
    "            print(f\"Good job, {name}! You guessed my number in {count} guesses!\") \n",
    "            break\n",
    "\n",
    "guess()\n"
   ]
  },
  {
   "attachments": {},
   "cell_type": "markdown",
   "metadata": {},
   "source": [
    "                                                            Python Functions 2"
   ]
  },
  {
   "cell_type": "code",
   "execution_count": 79,
   "metadata": {},
   "outputs": [],
   "source": [
    "movies = [\n",
    "{\n",
    "\"name\": \"Usual Suspects\", \n",
    "\"imdb\": 7.0,\n",
    "\"category\": \"Thriller\"\n",
    "},\n",
    "{\n",
    "\"name\": \"Hitman\",\n",
    "\"imdb\": 6.3,\n",
    "\"category\": \"Action\"\n",
    "},\n",
    "{\n",
    "\"name\": \"Dark Knight\",\n",
    "\"imdb\": 9.0,\n",
    "\"category\": \"Adventure\"\n",
    "},\n",
    "{\n",
    "\"name\": \"The Help\",\n",
    "\"imdb\": 8.0,\n",
    "\"category\": \"Drama\"\n",
    "},\n",
    "{\n",
    "\"name\": \"The Choice\",\n",
    "\"imdb\": 6.2,\n",
    "\"category\": \"Romance\"\n",
    "},\n",
    "{\n",
    "\"name\": \"Colonia\",\n",
    "\"imdb\": 7.4,\n",
    "\"category\": \"Romance\"\n",
    "},\n",
    "{\n",
    "\"name\": \"Love\",\n",
    "\"imdb\": 6.0,\n",
    "\"category\": \"Romance\"\n",
    "},\n",
    "{\n",
    "\"name\": \"Bride Wars\",\n",
    "\"imdb\": 5.4,\n",
    "\"category\": \"Romance\"\n",
    "},\n",
    "{\n",
    "\"name\": \"AlphaJet\",\n",
    "\"imdb\": 3.2,\n",
    "\"category\": \"War\"\n",
    "},\n",
    "{\n",
    "\"name\": \"Ringing Crime\",\n",
    "\"imdb\": 4.0,\n",
    "\"category\": \"Crime\"\n",
    "},\n",
    "{\n",
    "\"name\": \"Joking muck\",\n",
    "\"imdb\": 7.2,\n",
    "\"category\": \"Comedy\"\n",
    "},\n",
    "{\n",
    "\"name\": \"What is the name\",\n",
    "\"imdb\": 9.2,\n",
    "\"category\": \"Suspense\"\n",
    "},\n",
    "{\n",
    "\"name\": \"Detective\",\n",
    "\"imdb\": 7.0,\n",
    "\"category\": \"Suspense\"\n",
    "},\n",
    "{\n",
    "\"name\": \"Exam\",\n",
    "\"imdb\": 4.2,\n",
    "\"category\": \"Thriller\"\n",
    "},\n",
    "{\n",
    "\"name\": \"We Two\",\n",
    "\"imdb\": 7.2,\n",
    "\"category\": \"Romance\"\n",
    "}\n",
    "]"
   ]
  },
  {
   "cell_type": "code",
   "execution_count": 96,
   "metadata": {},
   "outputs": [
    {
     "name": "stdout",
     "output_type": "stream",
     "text": [
      "'Usual Suspects' has an IMDb score above 5.5: True\n",
      "'Hitman' has an IMDb score above 5.5: True\n",
      "'Dark Knight' has an IMDb score above 5.5: True\n",
      "'The Help' has an IMDb score above 5.5: True\n",
      "'The Choice' has an IMDb score above 5.5: True\n",
      "'Colonia' has an IMDb score above 5.5: True\n",
      "'Love' has an IMDb score above 5.5: True\n",
      "'Bride Wars' has an IMDb score above 5.5: False\n",
      "'AlphaJet' has an IMDb score above 5.5: False\n",
      "'Ringing Crime' has an IMDb score above 5.5: False\n",
      "'Joking muck' has an IMDb score above 5.5: True\n",
      "'What is the name' has an IMDb score above 5.5: True\n",
      "'Detective' has an IMDb score above 5.5: True\n",
      "'Exam' has an IMDb score above 5.5: False\n",
      "'We Two' has an IMDb score above 5.5: True\n"
     ]
    }
   ],
   "source": [
    "def highly_rated(movie):\n",
    "    return movie.get('imdb', 0) > 5.5\n",
    "\n",
    "for movie in movies:\n",
    "    result = highly_rated(movie)\n",
    "    print(f\"'{movie['name']}' has an IMDb score above 5.5: {result}\")"
   ]
  },
  {
   "cell_type": "code",
   "execution_count": 97,
   "metadata": {},
   "outputs": [
    {
     "name": "stdout",
     "output_type": "stream",
     "text": [
      "Usual Suspects has an IMDb rating above 5.5\n",
      "Hitman has an IMDb rating above 5.5\n",
      "Dark Knight has an IMDb rating above 5.5\n",
      "The Help has an IMDb rating above 5.5\n",
      "The Choice has an IMDb rating above 5.5\n",
      "Colonia has an IMDb rating above 5.5\n",
      "Love has an IMDb rating above 5.5\n",
      "Joking muck has an IMDb rating above 5.5\n",
      "What is the name has an IMDb rating above 5.5\n",
      "Detective has an IMDb rating above 5.5\n",
      "We Two has an IMDb rating above 5.5\n"
     ]
    }
   ],
   "source": [
    "def is_highly_rated():\n",
    "    for movie in movies:\n",
    "        if movie.get('imdb', 0) > 5.5:\n",
    "            print(f\"{movie.get('name', 'Unknown')} has an IMDb rating above 5.5\")\n",
    "\n",
    "is_highly_rated()"
   ]
  },
  {
   "cell_type": "code",
   "execution_count": 98,
   "metadata": {},
   "outputs": [
    {
     "name": "stdout",
     "output_type": "stream",
     "text": [
      "The Choice belongs to the Romance category\n",
      "Colonia belongs to the Romance category\n",
      "Love belongs to the Romance category\n",
      "Bride Wars belongs to the Romance category\n",
      "We Two belongs to the Romance category\n"
     ]
    }
   ],
   "source": [
    "def categor():\n",
    "    desired_category = 'Romance'\n",
    "    for movie in movies:\n",
    "        if movie.get('category', '').lower() == desired_category.lower():\n",
    "            print(f\"{movie.get('name', 'Unknown')} belongs to the {desired_category} category\")\n",
    "\n",
    "categor()"
   ]
  },
  {
   "cell_type": "code",
   "execution_count": 99,
   "metadata": {},
   "outputs": [
    {
     "name": "stdout",
     "output_type": "stream",
     "text": [
      "Average IMDb rating of all movies: 6.49\n"
     ]
    }
   ],
   "source": [
    "def avg_imdb():\n",
    "    total_imdb = sum(movie.get('imdb', 0) for movie in movies)\n",
    "    average_imdb = total_imdb / len(movies) if movies else 0\n",
    "    print(f\"Average IMDb rating of all movies: {average_imdb:.2f}\")\n",
    "\n",
    "avg_imdb()"
   ]
  },
  {
   "cell_type": "code",
   "execution_count": 100,
   "metadata": {},
   "outputs": [
    {
     "name": "stdout",
     "output_type": "stream",
     "text": [
      "Average IMDb rating for Comedy movies: 7.20\n"
     ]
    }
   ],
   "source": [
    "def find_movies():\n",
    "    desired_category = 'Comedy' \n",
    "    category_movies = [movie for movie in movies if movie.get('category', '').lower() == desired_category.lower()]\n",
    "    if category_movies:\n",
    "        total_imdb = sum(movie.get('imdb', 0) for movie in category_movies)\n",
    "        average_imdb = total_imdb / len(category_movies)\n",
    "        print(f\"Average IMDb rating for {desired_category} movies: {average_imdb:.2f}\")\n",
    "    else:\n",
    "        print(f\"No movies found in the {desired_category} category\")\n",
    "\n",
    "find_movies()"
   ]
  },
  {
   "attachments": {},
   "cell_type": "markdown",
   "metadata": {},
   "source": [
    "                                                                Python Classes"
   ]
  },
  {
   "cell_type": "code",
   "execution_count": 102,
   "metadata": {},
   "outputs": [
    {
     "name": "stdout",
     "output_type": "stream",
     "text": [
      "ABC\n"
     ]
    }
   ],
   "source": [
    "class StringManipulator:\n",
    "    def __init__(self):\n",
    "        self.input_string = \"\"\n",
    "\n",
    "    def getString(self):\n",
    "        self.input_string = input(\"Enter your string: \")\n",
    "\n",
    "    def printString(self):\n",
    "        print(self.input_string.upper())\n",
    "\n",
    "str_manipulator = StringManipulator()\n",
    "str_manipulator.getString()\n",
    "str_manipulator.printString()"
   ]
  },
  {
   "cell_type": "code",
   "execution_count": 103,
   "metadata": {},
   "outputs": [
    {
     "name": "stdout",
     "output_type": "stream",
     "text": [
      "Area of shape: 0\n",
      "Area of square: 25\n"
     ]
    }
   ],
   "source": [
    "class Shape:\n",
    "    def area(self):\n",
    "        return 0\n",
    "\n",
    "class Square(Shape):\n",
    "    def __init__(self, length):\n",
    "        self.length = length\n",
    "\n",
    "    def area(self):\n",
    "        return self.length ** 2\n",
    "\n",
    "if __name__ == \"__main__\":\n",
    "    shape = Shape()\n",
    "    print(f\"Area of shape: {shape.area()}\")\n",
    "\n",
    "    square = Square(5)\n",
    "    print(f\"Area of square: {square.area()}\")\n"
   ]
  },
  {
   "cell_type": "code",
   "execution_count": 104,
   "metadata": {},
   "outputs": [
    {
     "name": "stdout",
     "output_type": "stream",
     "text": [
      "Area of rectangle: 20\n"
     ]
    }
   ],
   "source": [
    "class Shape:\n",
    "    def area(self):\n",
    "        return 0\n",
    "\n",
    "class Rectangle(Shape):\n",
    "    def __init__(self, length, width):\n",
    "        self.length = length\n",
    "        self.width = width\n",
    "\n",
    "    def area(self):\n",
    "        return self.length * self.width\n",
    "\n",
    "if __name__ == \"__main__\":\n",
    "    rectangle = Rectangle(4, 5)\n",
    "    print(f\"Area of rectangle: {rectangle.area()}\")"
   ]
  },
  {
   "cell_type": "code",
   "execution_count": 105,
   "metadata": {},
   "outputs": [
    {
     "name": "stdout",
     "output_type": "stream",
     "text": [
      "Point(3, 4)\n",
      "Point(6, 8)\n",
      "Distance between points: 5.0\n",
      "Point(4, 2)\n"
     ]
    }
   ],
   "source": [
    "import math\n",
    "\n",
    "class Point:\n",
    "    def __init__(self, x=0, y=0):\n",
    "        self.x = x\n",
    "        self.y = y\n",
    "\n",
    "    def show(self):\n",
    "        print(f\"Point({self.x}, {self.y})\")\n",
    "\n",
    "    def move(self, dx, dy):\n",
    "        self.x += dx\n",
    "        self.y += dy\n",
    "\n",
    "    def dist(self, other):\n",
    "        return math.sqrt((self.x - other.x)**2 + (self.y - other.y)**2)\n",
    "\n",
    "if __name__ == \"__main__\":\n",
    "    p1 = Point(3, 4)\n",
    "    p2 = Point(6, 8)\n",
    "\n",
    "    p1.show()\n",
    "    p2.show()\n",
    "\n",
    "    distance = p1.dist(p2)\n",
    "    print(f\"Distance between points: {distance}\")\n",
    "\n",
    "    p1.move(1, -2)\n",
    "    p1.show()\n"
   ]
  },
  {
   "cell_type": "code",
   "execution_count": 107,
   "metadata": {},
   "outputs": [
    {
     "name": "stdout",
     "output_type": "stream",
     "text": [
      "Alice's initial balance: $100.00\n",
      "Deposited $50.00. New balance: $150.00\n",
      "Withdrew $30.00. New balance: $120.00\n",
      "Insufficient funds for this withdrawal.\n",
      "Deposit amount must be positive.\n",
      "Withdrawal amount must be positive.\n"
     ]
    }
   ],
   "source": [
    "class BankAccount:\n",
    "    def __init__(self, owner, balance=0):\n",
    "        self.owner = owner\n",
    "        self.balance = balance\n",
    "\n",
    "    def deposit(self, amount):\n",
    "        if amount > 0:\n",
    "            self.balance += amount\n",
    "            print(f\"Deposited ${amount:.2f}. New balance: ${self.balance:.2f}\")\n",
    "        else:\n",
    "            print(\"Deposit amount must be positive.\")\n",
    "\n",
    "    def withdraw(self, amount):\n",
    "        if amount > 0:\n",
    "            if amount <= self.balance:\n",
    "                self.balance -= amount\n",
    "                print(f\"Withdrew ${amount:.2f}. New balance: ${self.balance:.2f}\")\n",
    "            else:\n",
    "                print(\"Insufficient funds for this withdrawal.\")\n",
    "        else:\n",
    "            print(\"Withdrawal amount must be positive.\")\n",
    "\n",
    "if __name__ == \"__main__\":\n",
    "    alice_account = BankAccount(\"Alice\", 100)\n",
    "\n",
    "    print(f\"{alice_account.owner}'s initial balance: ${alice_account.balance:.2f}\")\n",
    "\n",
    "    alice_account.deposit(50) \n",
    "    alice_account.withdraw(30)    \n",
    "    alice_account.withdraw(150)  \n",
    "    alice_account.deposit(-20)  \n",
    "    alice_account.withdraw(-10) \n",
    "\n"
   ]
  }
 ],
 "metadata": {
  "kernelspec": {
   "display_name": "Python 3",
   "language": "python",
   "name": "python3"
  },
  "language_info": {
   "codemirror_mode": {
    "name": "ipython",
    "version": 3
   },
   "file_extension": ".py",
   "mimetype": "text/x-python",
   "name": "python",
   "nbconvert_exporter": "python",
   "pygments_lexer": "ipython3",
   "version": "3.11.5"
  },
  "orig_nbformat": 4
 },
 "nbformat": 4,
 "nbformat_minor": 2
}
