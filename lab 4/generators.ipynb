{
 "cells": [
  {
   "attachments": {},
   "cell_type": "markdown",
   "metadata": {},
   "source": [
    "                                                    Python iterators and generators"
   ]
  },
  {
   "cell_type": "code",
   "execution_count": 2,
   "metadata": {},
   "outputs": [
    {
     "name": "stdout",
     "output_type": "stream",
     "text": [
      "0\n",
      "1\n",
      "4\n",
      "9\n",
      "16\n",
      "25\n"
     ]
    }
   ],
   "source": [
    "def square_generator(N):\n",
    "    for num in range(N+1):\n",
    "        yield num**2\n",
    "\n",
    "N  = int(input(\"Enter a number: \"))\n",
    "for square in square_generator(N):\n",
    "    print(square)\n"
   ]
  },
  {
   "cell_type": "code",
   "execution_count": 9,
   "metadata": {},
   "outputs": [
    {
     "name": "stdout",
     "output_type": "stream",
     "text": [
      "0, 2, 4\n"
     ]
    }
   ],
   "source": [
    "def even_generator(n):\n",
    "    for num in range(0, n+1, 2):\n",
    "        yield num\n",
    "\n",
    "n = int(input(\"Enter a number: \"))\n",
    "print(', '.join(map(str, even_generator(n))))"
   ]
  },
  {
   "cell_type": "code",
   "execution_count": 18,
   "metadata": {},
   "outputs": [
    {
     "name": "stdout",
     "output_type": "stream",
     "text": [
      "0\n",
      "12\n",
      "24\n",
      "36\n",
      "48\n"
     ]
    }
   ],
   "source": [
    "def divisible_by_3_and_4(n):\n",
    "    for num in range(0, n + 1):\n",
    "        if num % 3 == 0 and num % 4 == 0:\n",
    "            yield num \n",
    "\n",
    "n = int(input(\"Enter a number: \"))\n",
    "\n",
    "for number in divisible_by_3_and_4(n):\n",
    "    print(number)"
   ]
  },
  {
   "cell_type": "code",
   "execution_count": 20,
   "metadata": {},
   "outputs": [
    {
     "name": "stdout",
     "output_type": "stream",
     "text": [
      "1\n",
      "4\n",
      "9\n",
      "16\n",
      "25\n",
      "36\n",
      "49\n",
      "64\n"
     ]
    }
   ],
   "source": [
    "def squares(a, b):\n",
    "    for square in range(a, b+1):\n",
    "        yield square**2\n",
    "\n",
    "first_num = int(input(\"Enter your first number: \"))\n",
    "second_num = int(input(\"Enter your second number: \"))\n",
    "\n",
    "for res in squares(first_num, second_num):\n",
    "    print(res)"
   ]
  },
  {
   "cell_type": "code",
   "execution_count": 23,
   "metadata": {},
   "outputs": [
    {
     "name": "stdout",
     "output_type": "stream",
     "text": [
      "4\n",
      "3\n",
      "2\n",
      "1\n",
      "0\n"
     ]
    }
   ],
   "source": [
    "def nums(n):\n",
    "    for num in range(n, -1, -1):\n",
    "        yield num\n",
    "\n",
    "number = int(input(\"Enter your number: \"))\n",
    "for res in nums(number):\n",
    "    print(res)"
   ]
  }
 ],
 "metadata": {
  "kernelspec": {
   "display_name": "Python 3",
   "language": "python",
   "name": "python3"
  },
  "language_info": {
   "codemirror_mode": {
    "name": "ipython",
    "version": 3
   },
   "file_extension": ".py",
   "mimetype": "text/x-python",
   "name": "python",
   "nbconvert_exporter": "python",
   "pygments_lexer": "ipython3",
   "version": "3.11.5"
  },
  "orig_nbformat": 4
 },
 "nbformat": 4,
 "nbformat_minor": 2
}
