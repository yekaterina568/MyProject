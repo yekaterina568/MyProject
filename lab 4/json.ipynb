{
 "cells": [
  {
   "attachments": {},
   "cell_type": "markdown",
   "metadata": {},
   "source": [
    "                                                        Python JSON parsing"
   ]
  },
  {
   "cell_type": "code",
   "execution_count": 6,
   "metadata": {},
   "outputs": [
    {
     "name": "stdout",
     "output_type": "stream",
     "text": [
      "Interface Status\n",
      "================================================================================\n",
      "DN                                                 Description          Speed   MTU  \n",
      "--------------------------------------------------------------------------------\n",
      "topology/pod-1/node-201/sys/phys-[eth1/33]                              inherit 9150 \n",
      "topology/pod-1/node-201/sys/phys-[eth1/34]                              inherit 9150 \n",
      "topology/pod-1/node-201/sys/phys-[eth1/35]                              inherit 9150 \n"
     ]
    }
   ],
   "source": [
    "import json\n",
    "\n",
    "with open(\"data.json\", \"r\", encoding=\"utf-8\") as file:\n",
    "    data = json.load(file)\n",
    "\n",
    "print(\"Interface Status\")\n",
    "print(\"=\" * 80)\n",
    "print(f\"{'DN':<50} {'Description':<20} {'Speed':<7} {'MTU':<5}\")\n",
    "print(\"-\" * 80)\n",
    "\n",
    "for item in data[\"imdata\"][:3]:\n",
    "    attributes = item[\"l1PhysIf\"][\"attributes\"]\n",
    "    dn = attributes[\"dn\"]\n",
    "    speed = attributes[\"speed\"]\n",
    "    mtu = attributes[\"mtu\"]\n",
    "\n",
    "    print(f\"{dn:<50} {'':<20} {speed:<7} {mtu:<5}\")\n"
   ]
  }
 ],
 "metadata": {
  "kernelspec": {
   "display_name": "Python 3",
   "language": "python",
   "name": "python3"
  },
  "language_info": {
   "codemirror_mode": {
    "name": "ipython",
    "version": 3
   },
   "file_extension": ".py",
   "mimetype": "text/x-python",
   "name": "python",
   "nbconvert_exporter": "python",
   "pygments_lexer": "ipython3",
   "version": "3.11.5"
  },
  "orig_nbformat": 4
 },
 "nbformat": 4,
 "nbformat_minor": 2
}
