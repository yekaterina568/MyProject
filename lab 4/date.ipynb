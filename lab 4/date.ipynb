{
 "cells": [
  {
   "attachments": {},
   "cell_type": "markdown",
   "metadata": {},
   "source": [
    "                                                            Python Dates"
   ]
  },
  {
   "cell_type": "code",
   "execution_count": 9,
   "metadata": {},
   "outputs": [
    {
     "name": "stdout",
     "output_type": "stream",
     "text": [
      "Five days ago: 09-02-2025\n"
     ]
    }
   ],
   "source": [
    "from datetime import datetime, timedelta\n",
    "\n",
    "current_date = datetime.now()\n",
    "new_date = current_date - timedelta(days = 5)\n",
    "print(\"Five days ago:\", new_date.strftime(\"%d-%m-%Y\"))"
   ]
  },
  {
   "cell_type": "code",
   "execution_count": 10,
   "metadata": {},
   "outputs": [
    {
     "name": "stdout",
     "output_type": "stream",
     "text": [
      "Yesterday was: 13-02-2025\n",
      "Today is: 14-02-2025\n",
      "Tomorrow will be: 15-02-2025\n"
     ]
    }
   ],
   "source": [
    "from datetime import datetime, timedelta\n",
    "\n",
    "today = datetime.now()\n",
    "yesterday = today - timedelta(days = 1)\n",
    "tomorrow = today + timedelta(days = 1)\n",
    "\n",
    "print(\"Yesterday was:\", yesterday.strftime(\"%d-%m-%Y\"))\n",
    "print(\"Today is:\", today.strftime(\"%d-%m-%Y\"))\n",
    "print(\"Tomorrow will be:\", tomorrow.strftime(\"%d-%m-%Y\"))"
   ]
  },
  {
   "cell_type": "code",
   "execution_count": 19,
   "metadata": {},
   "outputs": [
    {
     "name": "stdout",
     "output_type": "stream",
     "text": [
      "2025-02-15 19:12:44\n"
     ]
    }
   ],
   "source": [
    "from datetime import datetime\n",
    "\n",
    "current_date = datetime.now()\n",
    "drop = current_date.replace(microsecond=0)\n",
    "print(drop)"
   ]
  },
  {
   "cell_type": "code",
   "execution_count": 27,
   "metadata": {},
   "outputs": [
    {
     "name": "stdout",
     "output_type": "stream",
     "text": [
      "208443840\n"
     ]
    }
   ],
   "source": [
    "from datetime import datetime\n",
    "\n",
    "first_date = datetime(2023, 12, 26, 15, 4)\n",
    "second_date = datetime(2017, 5, 19, 2, 0)\n",
    "diff = first_date - second_date\n",
    "res = diff.total_seconds()\n",
    "print(int(res))"
   ]
  }
 ],
 "metadata": {
  "kernelspec": {
   "display_name": "Python 3",
   "language": "python",
   "name": "python3"
  },
  "language_info": {
   "codemirror_mode": {
    "name": "ipython",
    "version": 3
   },
   "file_extension": ".py",
   "mimetype": "text/x-python",
   "name": "python",
   "nbconvert_exporter": "python",
   "pygments_lexer": "ipython3",
   "version": "3.11.5"
  },
  "orig_nbformat": 4
 },
 "nbformat": 4,
 "nbformat_minor": 2
}
