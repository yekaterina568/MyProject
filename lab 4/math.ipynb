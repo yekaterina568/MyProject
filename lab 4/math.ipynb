{
 "cells": [
  {
   "attachments": {},
   "cell_type": "markdown",
   "metadata": {},
   "source": [
    "                                                            Python Math library"
   ]
  },
  {
   "cell_type": "code",
   "execution_count": 5,
   "metadata": {},
   "outputs": [
    {
     "name": "stdout",
     "output_type": "stream",
     "text": [
      "0.261799\n"
     ]
    }
   ],
   "source": [
    "import math\n",
    "\n",
    "def deg_to_radians(a):\n",
    "    rad = (a * math.pi)/180\n",
    "    return rad\n",
    "\n",
    "num = int(input(\"Enter your number: \"))\n",
    "print(f\"{deg_to_radians(num):.6f}\")"
   ]
  },
  {
   "cell_type": "code",
   "execution_count": 12,
   "metadata": {},
   "outputs": [
    {
     "name": "stdout",
     "output_type": "stream",
     "text": [
      "The area of a trapezoid is: 27.5\n"
     ]
    }
   ],
   "source": [
    "import math\n",
    "\n",
    "def area_of_trapezoid():\n",
    "    try:\n",
    "        height =float(input(\"Enter your height: \"))\n",
    "        base1  =float(input(\"Enter your first base: \"))\n",
    "        base2  =float(input(\"Enter your second base: \"))\n",
    "\n",
    "        if height<=0 or base1<=0 or base2<=0:\n",
    "            print(\"The values must be positive\")\n",
    "            return\n",
    "        \n",
    "        res = (base1 + base2) * height/2\n",
    "        print(f\"The area of a trapezoid is: {res}\")\n",
    "    except ValueError:\n",
    "        print(\"Error: input numeric values\")\n",
    "\n",
    "area_of_trapezoid()"
   ]
  },
  {
   "cell_type": "code",
   "execution_count": 16,
   "metadata": {},
   "outputs": [
    {
     "name": "stdout",
     "output_type": "stream",
     "text": [
      "The area of a regular polygon is: 625\n"
     ]
    }
   ],
   "source": [
    "import math\n",
    "\n",
    "def area_of_polygon():\n",
    "    try:\n",
    "        sides = int(input(\"Enter the number of sides: \"))\n",
    "        length  =int(input(\"Enter the length of a side: \"))\n",
    "\n",
    "        if sides<=0 or length<=0:\n",
    "            print(\"The values must be positive\")\n",
    "            return\n",
    "        \n",
    "        res = int((sides * length**2)/(4*math.tan(math.pi/sides)))\n",
    "        print(f\"The area of a regular polygon is: {res}\")\n",
    "    except ValueError:\n",
    "        print(\"Error: input numeric values\")\n",
    "    \n",
    "area_of_polygon()"
   ]
  },
  {
   "cell_type": "code",
   "execution_count": 17,
   "metadata": {},
   "outputs": [
    {
     "name": "stdout",
     "output_type": "stream",
     "text": [
      "The area of a parallelogram is: 30.0\n"
     ]
    }
   ],
   "source": [
    "import math\n",
    "\n",
    "def area_of_parallelogram():\n",
    "    try:\n",
    "        length = int(input(\"Enter the length of base: \"))\n",
    "        height  =int(input(\"Enter the height of parallelogram: \"))\n",
    "\n",
    "        if height<=0 or length<=0:\n",
    "            print(\"The values must be positive\")\n",
    "            return\n",
    "        \n",
    "        res = float(length * height)\n",
    "        print(f\"The area of a parallelogram is: {res}\")\n",
    "    except ValueError:\n",
    "        print(\"Error: input numeric values\")\n",
    "    \n",
    "area_of_parallelogram()"
   ]
  }
 ],
 "metadata": {
  "kernelspec": {
   "display_name": "Python 3",
   "language": "python",
   "name": "python3"
  },
  "language_info": {
   "codemirror_mode": {
    "name": "ipython",
    "version": 3
   },
   "file_extension": ".py",
   "mimetype": "text/x-python",
   "name": "python",
   "nbconvert_exporter": "python",
   "pygments_lexer": "ipython3",
   "version": "3.11.5"
  },
  "orig_nbformat": 4
 },
 "nbformat": 4,
 "nbformat_minor": 2
}
